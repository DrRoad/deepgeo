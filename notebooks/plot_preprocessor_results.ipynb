{
 "cells": [
  {
   "cell_type": "code",
   "execution_count": 5,
   "metadata": {},
   "outputs": [],
   "source": [
    "import sys\n",
    "import os\n",
    "from importlib import reload\n",
    "import numpy as np\n",
    "import pylab as pl\n",
    "\n",
    "sys.path.insert(0, '../src')\n",
    "import datasetGen.preprocessor as prep\n",
    "import utils.geofunctions as gf\n",
    "\n",
    "reload(prep)\n",
    "\n",
    "%matplotlib inline"
   ]
  },
  {
   "cell_type": "code",
   "execution_count": 6,
   "metadata": {},
   "outputs": [],
   "source": [
    "DATA_DIR = \"../data\"\n",
    "#raster_file = os.path.join(DATA_DIR, \"Landsat8_225-64_17-07-2016-R6G5B4.tif\")\n",
    "raster_file = os.path.join(DATA_DIR, \"Landsat8_225-64_17-07-2016-B1-7.tif\")\n",
    "vector_shp = os.path.join(DATA_DIR, \"PRODES2016_225-64_REP.shp\")\n",
    "class_column = \"agregClass\""
   ]
  },
  {
   "cell_type": "code",
   "execution_count": 12,
   "metadata": {},
   "outputs": [
    {
     "name": "stdout",
     "output_type": "stream",
     "text": [
      "Computing NDVI\n"
     ]
    },
    {
     "name": "stderr",
     "output_type": "stream",
     "text": [
      "../src/datasetGen/preprocessor.py:13: RuntimeWarning: invalid value encountered in true_divide\n",
      "  ndvi = np.divide((nir-red),(nir+red))\n"
     ]
    },
    {
     "name": "stdout",
     "output_type": "stream",
     "text": [
      "7\n",
      "(7741, 7591, 7)\n",
      "(7741, 7591, 8)\n",
      "Computing EVI\n"
     ]
    },
    {
     "name": "stderr",
     "output_type": "stream",
     "text": [
      "../src/datasetGen/preprocessor.py:21: RuntimeWarning: divide by zero encountered in true_divide\n",
      "  evi = 2.5 * (np.divide(nir - red, (nir + (6.0 * red) - (7.5 * blue) + 1.0)))\n"
     ]
    },
    {
     "name": "stdout",
     "output_type": "stream",
     "text": [
      "8\n",
      "(7741, 7591, 8)\n",
      "(7741, 7591, 9)\n",
      "(7741, 7591, 9)\n"
     ]
    }
   ],
   "source": [
    "preproc = prep.Preprocessor(raster_file, vector_shp)\n",
    "\n",
    "parameters = {\n",
    "    \"ndvi\": {\n",
    "        \"idx_b_red\": 3,\n",
    "        \"idx_b_nir\": 4\n",
    "    },\n",
    "    \"evi\": {\n",
    "        \"idx_b_red\": 3,\n",
    "        \"idx_b_blue\":1,\n",
    "        \"idx_b_nir\": 4\n",
    "    }\n",
    "}\n",
    "\n",
    "ndvi = preproc.compute_indexes([\"ndvi\", \"evi\"], parameters)\n",
    "print(ndvi.shape)"
   ]
  },
  {
   "cell_type": "code",
   "execution_count": 13,
   "metadata": {},
   "outputs": [
    {
     "data": {
      "text/plain": [
       "(-0.5, 7590.5, 7740.5, -0.5)"
      ]
     },
     "execution_count": 13,
     "metadata": {},
     "output_type": "execute_result"
    },
    {
     "data": {
      "image/png": "[encoded data removed]",
      "text/plain": [
       "<matplotlib.figure.Figure at 0x7f0710ed2860>"
      ]
     },
     "metadata": {},
     "output_type": "display_data"
    }
   ],
   "source": [
    "pl.figure(figsize=(10,10))\n",
    "pl.title('NDVI')\n",
    "#raster_img = skimage.img_as_float(raster_img).astype(np.float32)\n",
    "pl.imshow(ndvi[:,:,ndvi.shape[2]-1], cmap=\"gray\")\n",
    "pl.axis('off')"
   ]
  },
  {
   "cell_type": "code",
   "execution_count": null,
   "metadata": {},
   "outputs": [],
   "source": []
  }
 ],
 "metadata": {
  "kernelspec": {
   "display_name": "Python 3",
   "language": "python",
   "name": "python3"
  },
  "language_info": {
   "codemirror_mode": {
    "name": "ipython",
    "version": 3
   },
   "file_extension": ".py",
   "mimetype": "text/x-python",
   "name": "python",
   "nbconvert_exporter": "python",
   "pygments_lexer": "ipython3",
   "version": "3.5.4"
  }
 },
 "nbformat": 4,
 "nbformat_minor": 2
}
