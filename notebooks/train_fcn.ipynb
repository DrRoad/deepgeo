{
 "cells": [
  {
   "cell_type": "code",
   "execution_count": 1,
   "metadata": {},
   "outputs": [
    {
     "name": "stderr",
     "output_type": "stream",
     "text": [
      "/home/raian/anaconda3/envs/tensorflow/lib/python3.5/site-packages/h5py/__init__.py:36: FutureWarning: Conversion of the second argument of issubdtype from `float` to `np.floating` is deprecated. In future, it will be treated as `np.float64 == np.dtype(float).type`.\n",
      "  from ._conv import register_converters as _register_converters\n"
     ]
    },
    {
     "data": {
      "text/plain": [
       "<module 'deepleeo.utils.geofunctions' from '../src/deepleeo/utils/geofunctions.py'>"
      ]
     },
     "execution_count": 1,
     "metadata": {},
     "output_type": "execute_result"
    }
   ],
   "source": [
    "import tensorflow as tf\n",
    "import numpy as np\n",
    "import os\n",
    "import sys\n",
    "from importlib import reload\n",
    "from datetime import datetime\n",
    "\n",
    "sys.path.insert(0, '../src')\n",
    "import deepleeo.dataset.data_augment as dtaug\n",
    "import deepleeo.dataset.utils as dsutils \n",
    "import deepleeo.utils.geofunctions as gf\n",
    "import deepleeo.networks.model_builder as mb\n",
    "\n",
    "reload(dtaug)\n",
    "reload(dsutils)\n",
    "reload(mb)\n",
    "reload(gf)"
   ]
  },
  {
   "cell_type": "markdown",
   "metadata": {},
   "source": [
    "# Load input Dataset"
   ]
  },
  {
   "cell_type": "code",
   "execution_count": 2,
   "metadata": {},
   "outputs": [],
   "source": [
    "# DATA_DIR = os.path.join(os.path.abspath(os.path.dirname(\"__file__\")), '../', 'data_real', 'generated')\n",
    "network = \"fcn8s\"\n",
    "DATA_DIR = \"/home/raian/doutorado/Dados/generated\"\n",
    "DATASET_FILE = os.path.join(DATA_DIR, 'dataset_286x286_timesstack-2015-2016.npz')#'dataset_1.npz')\n",
    "\n",
    "# model_dir = os.path.join(DATA_DIR, 'tf_logs', \"test_%s_%s\" % (network, datetime.now().strftime('%d_%m_%Y-%H_%M_%S')))\n",
    "model_dir = \"/home/raian/doutorado/Dados/generated/tf_logs/test_debug\"\n",
    "# model_dir = os.path.join(DATA_DIR, 'tf_logs', 'test_fcn8s_11_12_2018-17_26_32')"
   ]
  },
  {
   "cell_type": "code",
   "execution_count": 3,
   "metadata": {},
   "outputs": [
    {
     "name": "stdout",
     "output_type": "stream",
     "text": [
      "total 8\r\n",
      "drwxr-xr-x  2 raian digits 4096 Jan 25 19:10 .\r\n",
      "drwxr-xr-x 15 raian digits 4096 Jan  9 23:43 ..\r\n"
     ]
    }
   ],
   "source": [
    "!rm -rf {model_dir}/*\n",
    "!ls -al {model_dir}"
   ]
  },
  {
   "cell_type": "code",
   "execution_count": 4,
   "metadata": {},
   "outputs": [
    {
     "name": "stdout",
     "output_type": "stream",
     "text": [
      "Data Loaded:\n",
      "  -> Images:  5000\n",
      "  -> Labels:  5000\n",
      "  -> Classes:  2\n",
      "Images shape:  (286, 286, 10)  - DType:  float32\n",
      "Labels shape:  (286, 286, 1)  - DType:  int32\n"
     ]
    }
   ],
   "source": [
    "dataset = np.load(DATASET_FILE)\n",
    "\n",
    "print(\"Data Loaded:\")\n",
    "print(\"  -> Images: \", len(dataset[\"images\"]))\n",
    "print(\"  -> Labels: \", len(dataset[\"labels\"]))\n",
    "print(\"  -> Classes: \", len(dataset[\"classes\"]))\n",
    "\n",
    "print(\"Images shape: \", dataset[\"images\"][0].shape, \" - DType: \", dataset[\"images\"][0].dtype)\n",
    "print(\"Labels shape: \", dataset[\"labels\"][0].shape, \" - DType: \", dataset[\"labels\"][0].dtype)\n",
    "# print(\"UNIQUE LABELS: \", np.unique(dataset[\"labels\"]))"
   ]
  },
  {
   "cell_type": "markdown",
   "metadata": {},
   "source": [
    "# Perform Data Augmentation"
   ]
  },
  {
   "cell_type": "code",
   "execution_count": 5,
   "metadata": {},
   "outputs": [],
   "source": [
    "# reload(dtaug)\n",
    "# new_dataset = {}\n",
    "# new_dataset[\"images\"] = dataset[\"images\"]\n",
    "# new_dataset[\"labels\"] = dataset[\"labels\"]\n",
    "\n",
    "# steps = 1000\n",
    "# num_chips = len(dataset[\"images\"])\n",
    "# for i in range(0, num_chips, steps):\n",
    "#     endstep = i + steps\n",
    "#     if endstep > num_chips:\n",
    "#         endstep = num_chips - 1\n",
    "    \n",
    "#     angles = [90, 180, 270]\n",
    "#     rotated_imgs = dtaug.rotate_images(dataset[\"images\"][i:endstep], angles)\n",
    "#     flipped_imgs = dtaug.flip_images(dataset[\"images\"][i:endstep])\n",
    "\n",
    "#     new_dataset[\"images\"] = np.concatenate((new_dataset[\"images\"], rotated_imgs))\n",
    "#     new_dataset[\"images\"] = np.concatenate((new_dataset[\"images\"], flipped_imgs))\n",
    "\n",
    "#     rotated_lbls = dtaug.rotate_images(dataset[\"labels\"][i:endstep], angles)\n",
    "#     flipped_lbls = dtaug.flip_images(dataset[\"labels\"][i:endstep])\n",
    "\n",
    "#     new_dataset[\"labels\"] = np.concatenate((new_dataset[\"labels\"], rotated_lbls))\n",
    "#     new_dataset[\"labels\"] = np.concatenate((new_dataset[\"labels\"], flipped_lbls)).astype(dtype=np.int32)\n",
    "\n",
    "# new_dataset[\"classes\"] = dataset[\"classes\"]\n",
    "\n",
    "# print(\"Data Augmentation Applied:\")\n",
    "# print(\"  -> Images: \", new_dataset[\"images\"].shape)\n",
    "# print(\"  -> Labels: \", new_dataset[\"labels\"].shape)"
   ]
  },
  {
   "cell_type": "markdown",
   "metadata": {},
   "source": [
    "# Split dataset between train, test and validation data"
   ]
  },
  {
   "cell_type": "code",
   "execution_count": 6,
   "metadata": {
    "scrolled": true
   },
   "outputs": [
    {
     "name": "stdout",
     "output_type": "stream",
     "text": [
      "Splitted dataset:\n",
      "  -> Train images:  (3500, 286, 286, 10)\n",
      "  -> Test images:  (1500, 286, 286, 10)\n",
      "  -> Validation images:  (0, 286, 286, 10)\n",
      "  -> Train Labels:  (3500, 286, 286, 1)\n",
      "  -> Test Labels:  (1500, 286, 286, 1)\n",
      "  -> Validation Labels:  (0, 286, 286, 1)\n"
     ]
    }
   ],
   "source": [
    "train_images, test_images, valid_images, train_labels, test_labels, valid_labels = dsutils.split_dataset(dataset)\n",
    "\n",
    "print(\"Splitted dataset:\")\n",
    "print(\"  -> Train images: \", train_images.shape)\n",
    "print(\"  -> Test images: \", test_images.shape)\n",
    "print(\"  -> Validation images: \", valid_images.shape)\n",
    "print(\"  -> Train Labels: \", train_labels.shape)\n",
    "print(\"  -> Test Labels: \", test_labels.shape)\n",
    "print(\"  -> Validation Labels: \", valid_labels.shape)"
   ]
  },
  {
   "cell_type": "markdown",
   "metadata": {},
   "source": [
    "# Train the Network"
   ]
  },
  {
   "cell_type": "code",
   "execution_count": 7,
   "metadata": {},
   "outputs": [],
   "source": [
    "params = {\n",
    "    \"epochs\": 3,\n",
    "    \"batch_size\": 100,\n",
    "    \"learning_rate\": 0.0001,\n",
    "    \"l2_reg_rate\": 0.5,\n",
    "    \"var_scale_factor\": 2.0,\n",
    "    \"chips_tensorboard\": 2,\n",
    "    \"dropout_rate\": 0.5,\n",
    "    \"class_names\": dataset[\"classes\"],\n",
    "     \"bands_plot\": [1,2,3]\n",
    "}"
   ]
  },
  {
   "cell_type": "code",
   "execution_count": 8,
   "metadata": {
    "scrolled": false
   },
   "outputs": [
    {
     "name": "stdout",
     "output_type": "stream",
     "text": [
      "WARNING:tensorflow:From ../src/deepleeo/networks/model_builder.py:73: replicate_model_fn (from tensorflow.contrib.estimator.python.estimator.replicate_model_fn) is deprecated and will be removed after 2018-05-31.\n",
      "Instructions for updating:\n",
      "Please use `tf.contrib.distribute.MirroredStrategy` instead.\n",
      "INFO:tensorflow:Replicating the `model_fn` across ['/device:GPU:0', '/device:GPU:1', '/device:GPU:2', '/device:GPU:3'].  Variables are going to be placed on ['/CPU:0'].  Consolidation device is going to be /CPU:0.\n",
      "INFO:tensorflow:Using default config.\n",
      "INFO:tensorflow:Using config: {'_save_checkpoints_secs': 600, '_save_checkpoints_steps': None, '_save_summary_steps': 100, '_log_step_count_steps': 100, '_keep_checkpoint_every_n_hours': 10000, '_num_worker_replicas': 1, '_master': '', '_tf_random_seed': None, '_global_id_in_cluster': 0, '_train_distribute': None, '_service': None, '_evaluation_master': '', '_model_dir': '/home/raian/doutorado/Dados/generated/tf_logs/test_debug', '_cluster_spec': <tensorflow.python.training.server_lib.ClusterSpec object at 0x7fc1b374cd68>, '_num_ps_replicas': 0, '_task_type': 'worker', '_device_fn': None, '_keep_checkpoint_max': 5, '_is_chief': True, '_task_id': 0, '_session_config': None}\n",
      "Labels Shape:  (3500, 286, 286, 1)\n",
      "===============================================\n",
      "Epoch  1\n",
      "---------------\n",
      "Training...\n",
      "INFO:tensorflow:Calling model_fn.\n",
      "LABELS SHAPE:  (?, 286, 286, 1)\n",
      "OUTPUT SHAPE:  (?, 286, 286, 1)\n",
      "WARNING:tensorflow:From ../src/deepleeo/networks/../networks/fcn8s.py:141: TowerOptimizer.__init__ (from tensorflow.contrib.estimator.python.estimator.replicate_model_fn) is deprecated and will be removed after 2018-05-31.\n",
      "Instructions for updating:\n",
      "Please use `tf.contrib.distribute.MirroredStrategy` instead.\n",
      "LABELS SHAPE:  (?, 286, 286, 1)\n",
      "OUTPUT SHAPE:  (?, 286, 286, 1)\n",
      "LABELS SHAPE:  (?, 286, 286, 1)\n",
      "OUTPUT SHAPE:  (?, 286, 286, 1)\n",
      "LABELS SHAPE:  (?, 286, 286, 1)\n",
      "OUTPUT SHAPE:  (?, 286, 286, 1)\n",
      "INFO:tensorflow:Done calling model_fn.\n",
      "INFO:tensorflow:Create CheckpointSaverHook.\n",
      "INFO:tensorflow:Graph was finalized.\n",
      "INFO:tensorflow:Running local_init_op.\n",
      "INFO:tensorflow:Done running local_init_op.\n",
      "INFO:tensorflow:Saving checkpoints for 0 into /home/raian/doutorado/Dados/generated/tf_logs/test_debug/model.ckpt.\n",
      "INFO:tensorflow:loss = 0.9539688\n",
      "INFO:tensorflow:loss = 0.9539688, step = 0\n",
      "INFO:tensorflow:loss = 0.9586632 (26.582 sec)\n",
      "INFO:tensorflow:Saving checkpoints for 35 into /home/raian/doutorado/Dados/generated/tf_logs/test_debug/model.ckpt.\n",
      "INFO:tensorflow:Loss for final step: 0.9634367.\n",
      "---------------\n",
      "Evaluating...\n",
      "INFO:tensorflow:Calling model_fn.\n",
      "LABELS SHAPE:  (?, 286, 286, 1)\n",
      "OUTPUT SHAPE:  (?, 286, 286, 1)\n",
      "LABELS SHAPE:  (?, 286, 286, 1)\n",
      "OUTPUT SHAPE:  (?, 286, 286, 1)\n",
      "LABELS SHAPE:  (?, 286, 286, 1)\n",
      "OUTPUT SHAPE:  (?, 286, 286, 1)\n",
      "LABELS SHAPE:  (?, 286, 286, 1)\n",
      "OUTPUT SHAPE:  (?, 286, 286, 1)\n",
      "INFO:tensorflow:Done calling model_fn.\n",
      "INFO:tensorflow:Starting evaluation at 2019-01-25-21:13:42\n",
      "INFO:tensorflow:Graph was finalized.\n",
      "INFO:tensorflow:Restoring parameters from /home/raian/doutorado/Dados/generated/tf_logs/test_debug/model.ckpt-35\n",
      "INFO:tensorflow:Running local_init_op.\n",
      "INFO:tensorflow:Done running local_init_op.\n",
      "INFO:tensorflow:loss = 0.9478136\n",
      "INFO:tensorflow:Finished evaluation at 2019-01-25-21:13:54\n",
      "INFO:tensorflow:Saving dict for global step 35: eval_metrics/accuracy = 0.0, eval_metrics/cross_entropy = 0.9523347, eval_metrics/f1-score = 0.16750403, global_step = 35, loss = 0.95679504\n",
      "INFO:tensorflow:Saving 'checkpoint_path' summary for global step 35: /home/raian/doutorado/Dados/generated/tf_logs/test_debug/model.ckpt-35\n",
      "===============================================\n",
      "Epoch  2\n",
      "---------------\n",
      "Training...\n",
      "INFO:tensorflow:Calling model_fn.\n",
      "LABELS SHAPE:  (?, 286, 286, 1)\n",
      "OUTPUT SHAPE:  (?, 286, 286, 1)\n",
      "LABELS SHAPE:  (?, 286, 286, 1)\n",
      "OUTPUT SHAPE:  (?, 286, 286, 1)\n",
      "LABELS SHAPE:  (?, 286, 286, 1)\n",
      "OUTPUT SHAPE:  (?, 286, 286, 1)\n",
      "LABELS SHAPE:  (?, 286, 286, 1)\n",
      "OUTPUT SHAPE:  (?, 286, 286, 1)\n",
      "INFO:tensorflow:Done calling model_fn.\n",
      "INFO:tensorflow:Create CheckpointSaverHook.\n",
      "INFO:tensorflow:Graph was finalized.\n",
      "INFO:tensorflow:Restoring parameters from /home/raian/doutorado/Dados/generated/tf_logs/test_debug/model.ckpt-35\n",
      "INFO:tensorflow:Running local_init_op.\n",
      "INFO:tensorflow:Done running local_init_op.\n",
      "INFO:tensorflow:Saving checkpoints for 35 into /home/raian/doutorado/Dados/generated/tf_logs/test_debug/model.ckpt.\n",
      "INFO:tensorflow:loss = 0.9599534\n",
      "INFO:tensorflow:loss = 0.9599534, step = 35\n",
      "INFO:tensorflow:loss = 0.95815396 (25.965 sec)\n",
      "INFO:tensorflow:Saving checkpoints for 70 into /home/raian/doutorado/Dados/generated/tf_logs/test_debug/model.ckpt.\n",
      "INFO:tensorflow:Loss for final step: 0.953185.\n",
      "---------------\n",
      "Evaluating...\n",
      "INFO:tensorflow:Calling model_fn.\n",
      "LABELS SHAPE:  (?, 286, 286, 1)\n",
      "OUTPUT SHAPE:  (?, 286, 286, 1)\n",
      "LABELS SHAPE:  (?, 286, 286, 1)\n",
      "OUTPUT SHAPE:  (?, 286, 286, 1)\n",
      "LABELS SHAPE:  (?, 286, 286, 1)\n",
      "OUTPUT SHAPE:  (?, 286, 286, 1)\n",
      "LABELS SHAPE:  (?, 286, 286, 1)\n",
      "OUTPUT SHAPE:  (?, 286, 286, 1)\n",
      "INFO:tensorflow:Done calling model_fn.\n",
      "INFO:tensorflow:Starting evaluation at 2019-01-25-21:15:02\n",
      "INFO:tensorflow:Graph was finalized.\n",
      "INFO:tensorflow:Restoring parameters from /home/raian/doutorado/Dados/generated/tf_logs/test_debug/model.ckpt-70\n",
      "INFO:tensorflow:Running local_init_op.\n",
      "INFO:tensorflow:Done running local_init_op.\n",
      "INFO:tensorflow:loss = 0.9463924\n",
      "INFO:tensorflow:Finished evaluation at 2019-01-25-21:15:12\n",
      "INFO:tensorflow:Saving dict for global step 70: eval_metrics/accuracy = 0.0, eval_metrics/cross_entropy = 0.9522923, eval_metrics/f1-score = 0.19526677, global_step = 70, loss = 0.9556841\n",
      "INFO:tensorflow:Saving 'checkpoint_path' summary for global step 70: /home/raian/doutorado/Dados/generated/tf_logs/test_debug/model.ckpt-70\n",
      "===============================================\n",
      "Epoch  3\n",
      "---------------\n",
      "Training...\n",
      "INFO:tensorflow:Calling model_fn.\n",
      "LABELS SHAPE:  (?, 286, 286, 1)\n",
      "OUTPUT SHAPE:  (?, 286, 286, 1)\n",
      "LABELS SHAPE:  (?, 286, 286, 1)\n",
      "OUTPUT SHAPE:  (?, 286, 286, 1)\n",
      "LABELS SHAPE:  (?, 286, 286, 1)\n",
      "OUTPUT SHAPE:  (?, 286, 286, 1)\n",
      "LABELS SHAPE:  (?, 286, 286, 1)\n",
      "OUTPUT SHAPE:  (?, 286, 286, 1)\n",
      "INFO:tensorflow:Done calling model_fn.\n",
      "INFO:tensorflow:Create CheckpointSaverHook.\n",
      "INFO:tensorflow:Graph was finalized.\n",
      "INFO:tensorflow:Restoring parameters from /home/raian/doutorado/Dados/generated/tf_logs/test_debug/model.ckpt-70\n",
      "INFO:tensorflow:Running local_init_op.\n",
      "INFO:tensorflow:Done running local_init_op.\n",
      "INFO:tensorflow:Saving checkpoints for 70 into /home/raian/doutorado/Dados/generated/tf_logs/test_debug/model.ckpt.\n",
      "INFO:tensorflow:loss = 0.9550551\n",
      "INFO:tensorflow:loss = 0.9550551, step = 70\n",
      "INFO:tensorflow:loss = 0.95360804 (25.911 sec)\n",
      "INFO:tensorflow:Saving checkpoints for 105 into /home/raian/doutorado/Dados/generated/tf_logs/test_debug/model.ckpt.\n",
      "INFO:tensorflow:Loss for final step: 0.952559.\n",
      "---------------\n",
      "Evaluating...\n",
      "INFO:tensorflow:Calling model_fn.\n",
      "LABELS SHAPE:  (?, 286, 286, 1)\n",
      "OUTPUT SHAPE:  (?, 286, 286, 1)\n",
      "LABELS SHAPE:  (?, 286, 286, 1)\n",
      "OUTPUT SHAPE:  (?, 286, 286, 1)\n",
      "LABELS SHAPE:  (?, 286, 286, 1)\n",
      "OUTPUT SHAPE:  (?, 286, 286, 1)\n",
      "LABELS SHAPE:  (?, 286, 286, 1)\n",
      "OUTPUT SHAPE:  (?, 286, 286, 1)\n",
      "INFO:tensorflow:Done calling model_fn.\n",
      "INFO:tensorflow:Starting evaluation at 2019-01-25-21:16:19\n",
      "INFO:tensorflow:Graph was finalized.\n",
      "INFO:tensorflow:Restoring parameters from /home/raian/doutorado/Dados/generated/tf_logs/test_debug/model.ckpt-105\n",
      "INFO:tensorflow:Running local_init_op.\n",
      "INFO:tensorflow:Done running local_init_op.\n",
      "INFO:tensorflow:loss = 0.94483054\n",
      "INFO:tensorflow:Finished evaluation at 2019-01-25-21:16:29\n",
      "INFO:tensorflow:Saving dict for global step 105: eval_metrics/accuracy = 0.0, eval_metrics/cross_entropy = 0.955583, eval_metrics/f1-score = 0.21244435, global_step = 105, loss = 0.95439845\n",
      "INFO:tensorflow:Saving 'checkpoint_path' summary for global step 105: /home/raian/doutorado/Dados/generated/tf_logs/test_debug/model.ckpt-105\n"
     ]
    }
   ],
   "source": [
    "model = mb.ModelBuilder(network)\n",
    "model.train(train_images, test_images, train_labels, test_labels, params, model_dir)"
   ]
  },
  {
   "cell_type": "code",
   "execution_count": 9,
   "metadata": {},
   "outputs": [],
   "source": [
    "#fcn.fcn_evaluate(valid_images, valid_labels,)"
   ]
  },
  {
   "cell_type": "raw",
   "metadata": {},
   "source": []
  }
 ],
 "metadata": {
  "kernelspec": {
   "display_name": "Python 3",
   "language": "python",
   "name": "python3"
  },
  "language_info": {
   "codemirror_mode": {
    "name": "ipython",
    "version": 3
   },
   "file_extension": ".py",
   "mimetype": "text/x-python",
   "name": "python",
   "nbconvert_exporter": "python",
   "pygments_lexer": "ipython3",
   "version": "3.5.5"
  }
 },
 "nbformat": 4,
 "nbformat_minor": 2
}
