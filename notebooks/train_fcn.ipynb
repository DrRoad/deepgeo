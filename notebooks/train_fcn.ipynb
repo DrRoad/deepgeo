{
 "cells": [
  {
   "cell_type": "code",
   "execution_count": 1,
   "metadata": {},
   "outputs": [
    {
     "name": "stderr",
     "output_type": "stream",
     "text": [
      "/home/raian/anaconda3/envs/tensorflow/lib/python3.5/site-packages/h5py/__init__.py:36: FutureWarning: Conversion of the second argument of issubdtype from `float` to `np.floating` is deprecated. In future, it will be treated as `np.float64 == np.dtype(float).type`.\n",
      "  from ._conv import register_converters as _register_converters\n"
     ]
    },
    {
     "data": {
      "text/plain": [
       "<module 'deepgeo.common.geofunctions' from '../src/deepgeo/common/geofunctions.py'>"
      ]
     },
     "execution_count": 1,
     "metadata": {},
     "output_type": "execute_result"
    }
   ],
   "source": [
    "import tensorflow as tf\n",
    "import numpy as np\n",
    "import os\n",
    "import sys\n",
    "from importlib import reload\n",
    "from datetime import datetime\n",
    "\n",
    "sys.path.insert(0, '../src')\n",
    "import deepgeo.dataset.data_augment as dtaug\n",
    "import deepgeo.dataset.utils as dsutils \n",
    "import deepgeo.common.geofunctions as gf\n",
    "import deepgeo.networks.model_builder as mb\n",
    "import deepgeo.networks.loss_functions as lossf\n",
    "\n",
    "reload(dtaug)\n",
    "reload(dsutils)\n",
    "reload(mb)\n",
    "reload(gf)"
   ]
  },
  {
   "cell_type": "markdown",
   "metadata": {},
   "source": [
    "# Load input Dataset"
   ]
  },
  {
   "cell_type": "code",
   "execution_count": 2,
   "metadata": {},
   "outputs": [],
   "source": [
    "# DATA_DIR = os.path.join(os.path.abspath(os.path.dirname('__file__')), '../', 'data_real', 'generated')\n",
    "network = 'unet'\n",
    "DATA_DIR = '/home/raian/doutorado/Dados/generated'\n",
    "# DATASET_FILE = os.path.join(DATA_DIR, 'new_dataset_286x286_timesstack-2013-2017.npz')\n",
    "DATASET = os.path.join(DATA_DIR, 'dataset_286x286_no_samp_cl-2013-2017')\n",
    "\n",
    "class_names = ['no_data', 'not_deforestation', 'deforestation']\n",
    "# model_dir = os.path.join(DATA_DIR, 'tf_logs', network,\n",
    "#                          'test_%s_%s' % (network, datetime.now().strftime('%d_%m_%Y-%H_%M_%S')))\n",
    "# model_dir = os.path.join(DATA_DIR, 'tf_logs', 'experiments', network, 'test_unet_2019_06_20-12_56_00')\n",
    "train_tfrecord = os.path.join(DATASET, 'dataset_train.tfrecord')\n",
    "test_tfrecord = os.path.join(DATASET, 'dataset_test.tfrecord')\n",
    "val_dataset = os.path.join(DATASET, 'dataset_valid.npz')"
   ]
  },
  {
   "cell_type": "code",
   "execution_count": 3,
   "metadata": {},
   "outputs": [
    {
     "name": "stdout",
     "output_type": "stream",
     "text": [
      "total 8\r\n",
      "drwxr-xr-x 2 raian digits 4096 Jun 24 22:38 .\r\n",
      "drwxr-xr-x 3 raian digits 4096 Dec  7  2018 ..\r\n"
     ]
    }
   ],
   "source": [
    "model_dir = '/home/raian/doutorado/deepgeo/data_real/generated/tf_logs/test_debug'\n",
    "!rm -rf {model_dir}/*\n",
    "!ls -al {model_dir}"
   ]
  },
  {
   "cell_type": "markdown",
   "metadata": {},
   "source": [
    "## Computing weights"
   ]
  },
  {
   "cell_type": "code",
   "execution_count": 4,
   "metadata": {},
   "outputs": [
    {
     "ename": "AttributeError",
     "evalue": "module 'deepgeo.networks.loss_functions' has no attribute 'compute_weights_mean_proportion'",
     "output_type": "error",
     "traceback": [
      "\u001b[0;31m---------------------------------------------------------------------------\u001b[0m",
      "\u001b[0;31mAttributeError\u001b[0m                            Traceback (most recent call last)",
      "\u001b[0;32m<ipython-input-4-0feca3605813>\u001b[0m in \u001b[0;36m<module>\u001b[0;34m()\u001b[0m\n\u001b[1;32m     30\u001b[0m \u001b[0;31m#     return weights\u001b[0m\u001b[0;34m\u001b[0m\u001b[0;34m\u001b[0m\u001b[0m\n\u001b[1;32m     31\u001b[0m \u001b[0;34m\u001b[0m\u001b[0m\n\u001b[0;32m---> 32\u001b[0;31m \u001b[0mweights_train\u001b[0m \u001b[0;34m=\u001b[0m \u001b[0mlossf\u001b[0m\u001b[0;34m.\u001b[0m\u001b[0mcompute_weights_mean_proportion\u001b[0m\u001b[0;34m(\u001b[0m\u001b[0mtrain_tfrecord\u001b[0m\u001b[0;34m,\u001b[0m \u001b[0mclass_names\u001b[0m\u001b[0;34m,\u001b[0m \u001b[0;34m[\u001b[0m\u001b[0;34m'no_data'\u001b[0m\u001b[0;34m]\u001b[0m\u001b[0;34m)\u001b[0m\u001b[0;34m\u001b[0m\u001b[0m\n\u001b[0m\u001b[1;32m     33\u001b[0m \u001b[0mweights_eval\u001b[0m \u001b[0;34m=\u001b[0m \u001b[0mlossf\u001b[0m\u001b[0;34m.\u001b[0m\u001b[0mcompute_weights_mean_proportion\u001b[0m\u001b[0;34m(\u001b[0m\u001b[0mtest_tfrecord\u001b[0m\u001b[0;34m,\u001b[0m \u001b[0mclass_names\u001b[0m\u001b[0;34m,\u001b[0m \u001b[0;34m[\u001b[0m\u001b[0;34m'no_data'\u001b[0m\u001b[0;34m]\u001b[0m\u001b[0;34m)\u001b[0m\u001b[0;34m\u001b[0m\u001b[0m\n",
      "\u001b[0;31mAttributeError\u001b[0m: module 'deepgeo.networks.loss_functions' has no attribute 'compute_weights_mean_proportion'"
     ]
    }
   ],
   "source": [
    "# def parse(serialized):\n",
    "#     features = {'label': tf.FixedLenFeature([], tf.string, default_value=''),\n",
    "#                 'height': tf.FixedLenFeature([], tf.int64, default_value=0),\n",
    "#                 'width': tf.FixedLenFeature([], tf.int64, default_value=0)}\n",
    "\n",
    "#     parsed_features = tf.parse_single_example(serialized=serialized, features=features)\n",
    "#     height = parsed_features['height']\n",
    "#     width = parsed_features['width']\n",
    "\n",
    "#     label = tf.decode_raw(parsed_features['label'], tf.int32)\n",
    "#     label = tf.reshape(label, [height, width, 1])\n",
    "\n",
    "#     return label\n",
    "\n",
    "# def compute_weights_mean_proportion(tfrecord, classes, classes_zero=['no_data']):\n",
    "#     tf.enable_eager_execution()\n",
    "#     train_ds = tf.data.TFRecordDataset(tfrecord)\n",
    "#     train_ds = train_ds.map(parse)\n",
    "#     tot_count = [0] * len(classes)\n",
    "#     for label in train_ds:\n",
    "#         label = label.numpy()\n",
    "#         unique, count = np.unique(label, return_counts=True)\n",
    "#         for k, v in enumerate(unique):\n",
    "#             if classes[v] not in classes_zero:\n",
    "#                 tot_count[v] += count[k]\n",
    "#     total = sum(tot_count)\n",
    "#     proportions = [i / total for i in tot_count]\n",
    "#     mean_prop = sum(proportions)/ (len(proportions) - len(classes_zero))\n",
    "#     weights = [mean_prop / i if i != 0 else 0 for i in proportions]\n",
    "#     return weights\n",
    "    \n",
    "weights_train = lossf.compute_weights_mean_proportion(train_tfrecord, class_names, ['no_data'])\n",
    "weights_eval = lossf.compute_weights_mean_proportion(test_tfrecord, class_names, ['no_data'])"
   ]
  },
  {
   "cell_type": "code",
   "execution_count": null,
   "metadata": {},
   "outputs": [],
   "source": [
    "print(weights_train)\n",
    "print(weights_eval)"
   ]
  },
  {
   "cell_type": "markdown",
   "metadata": {},
   "source": [
    "# Train the Network"
   ]
  },
  {
   "cell_type": "code",
   "execution_count": null,
   "metadata": {},
   "outputs": [],
   "source": [
    "params = {\n",
    "    'epochs': 1,\n",
    "    'batch_size': 20,\n",
    "    'chip_size': 286,\n",
    "    'bands': 10,\n",
    "    'filter_reduction': 0.5,\n",
    "    'learning_rate': 0.1,\n",
    "    'learning_rate_decay': True,\n",
    "    'decay_rate': 0.95,\n",
    "    'l2_reg_rate': 0.0005,\n",
    "    # 'var_scale_factor': 2.0,  # TODO: Put the initializer as parameter\n",
    "    'chips_tensorboard': 2,\n",
    "    # 'dropout_rate': 0.5,  # TODO: Put a bool parameter to apply or not Dropout\n",
    "    'fusion': 'early',\n",
    "    'loss_func': 'weighted_cross_entropy',\n",
    "    'data_aug_ops': ['rot90', 'rot180', 'rot270', 'flip_left_right',\n",
    "                     'flip_up_down', 'flip_transpose'],\n",
    "#     'data_aug_per_chip': 4,\n",
    "    'class_weights': {'train': weights_train, 'eval': weights_eval},\n",
    "    'num_classes': len(class_names),\n",
    "    'class_names': ['no data', 'not deforestation', 'deforestation'],\n",
    "    'num_compositions': 2,\n",
    "    'bands_plot': [[1, 2, 3], [6, 7, 8]],\n",
    "    'Notes': 'Testing.'\n",
    "}\n",
    "reload(mb)\n",
    "model = mb.ModelBuilder(network)"
   ]
  },
  {
   "cell_type": "code",
   "execution_count": null,
   "metadata": {
    "scrolled": false
   },
   "outputs": [],
   "source": [
    "model.train(train_tfrecord, test_tfrecord, params, model_dir)"
   ]
  },
  {
   "cell_type": "code",
   "execution_count": null,
   "metadata": {
    "scrolled": false
   },
   "outputs": [],
   "source": [
    "# dataset = np.load(val_dataset)\n",
    "# model.validate(dataset['chips'], dataset['labels'], params, model_dir)"
   ]
  },
  {
   "cell_type": "code",
   "execution_count": null,
   "metadata": {},
   "outputs": [],
   "source": []
  }
 ],
 "metadata": {
  "kernelspec": {
   "display_name": "Python 3",
   "language": "python",
   "name": "python3"
  },
  "language_info": {
   "codemirror_mode": {
    "name": "ipython",
    "version": 3
   },
   "file_extension": ".py",
   "mimetype": "text/x-python",
   "name": "python",
   "nbconvert_exporter": "python",
   "pygments_lexer": "ipython3",
   "version": "3.5.5"
  }
 },
 "nbformat": 4,
 "nbformat_minor": 2
}
