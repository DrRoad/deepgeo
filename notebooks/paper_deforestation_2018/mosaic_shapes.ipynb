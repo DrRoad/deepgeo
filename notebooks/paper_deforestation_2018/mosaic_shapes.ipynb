{
 "cells": [
  {
   "cell_type": "code",
   "execution_count": 2,
   "metadata": {},
   "outputs": [
    {
     "data": {
      "text/plain": [
       "<module 'deepgeo.common.geofunctions' from '../../src/deepgeo/common/geofunctions.py'>"
      ]
     },
     "execution_count": 2,
     "metadata": {},
     "output_type": "execute_result"
    }
   ],
   "source": [
    "import sys\n",
    "import os\n",
    "from importlib import reload\n",
    "\n",
    "sys.path.insert(0, '../../src')\n",
    "import deepgeo.common.geofunctions as gf\n",
    "\n",
    "reload(gf)"
   ]
  },
  {
   "cell_type": "code",
   "execution_count": 3,
   "metadata": {},
   "outputs": [
    {
     "name": "stdout",
     "output_type": "stream",
     "text": [
      "('/home/raian/doutorado/Dados/generated', 'Prodes_mosaic.shp')\n"
     ]
    }
   ],
   "source": [
    "DATA_DIR = \"/home/raian/doutorado/Dados\"\n",
    "output_dir = os.path.join(DATA_DIR, \"generated\")\n",
    "input_shps = [os.path.join(DATA_DIR, \"prodes_2018\", \"PDigital2018_22463__pol.shp\"),\n",
    "              os.path.join(DATA_DIR, \"prodes_2018\", \"PDigital2018_22464__pol.shp\"),\n",
    "              os.path.join(DATA_DIR, \"prodes_2018\", \"PDigital2018_22563__pol.shp\"),\n",
    "              os.path.join(DATA_DIR, \"prodes_2018\", \"PDigital2018_22564__pol.shp\")]\n",
    "\n",
    "output_shp = os.path.join(output_dir, \"Prodes_mosaic.shp\")\n",
    "\n",
    "print(os.path.split(output_shp))"
   ]
  },
  {
   "cell_type": "code",
   "execution_count": 4,
   "metadata": {},
   "outputs": [
    {
     "name": "stdout",
     "output_type": "stream",
     "text": [
      "Merging Files...\n",
      "Warning 1: Field linkcolumn of width 255 truncated to 254.\n",
      "Warning 1: Field mainclass of width 255 truncated to 254.\n",
      "Warning 1: Field class_name of width 255 truncated to 254.\n",
      "Warning 1: Field view_date of width 255 truncated to 254.\n"
     ]
    }
   ],
   "source": [
    "gf.merge_vector_layers(input_shps, output_shp) #TODO: REVIEW this method. It is creating two output shapes"
   ]
  },
  {
   "cell_type": "code",
   "execution_count": 5,
   "metadata": {},
   "outputs": [],
   "source": [
    "#gf.reproj_shape_to_raster(vector_shp, base_raster, out_shp)"
   ]
  }
 ],
 "metadata": {
  "kernelspec": {
   "display_name": "Python 3",
   "language": "python",
   "name": "python3"
  }
 },
 "nbformat": 4,
 "nbformat_minor": 2
}
