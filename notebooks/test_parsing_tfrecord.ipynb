{
 "cells": [
  {
   "cell_type": "code",
   "execution_count": 1,
   "metadata": {},
   "outputs": [
    {
     "name": "stderr",
     "output_type": "stream",
     "text": [
      "/home/raian/anaconda3/envs/tensorflow/lib/python3.5/site-packages/h5py/__init__.py:36: FutureWarning: Conversion of the second argument of issubdtype from `float` to `np.floating` is deprecated. In future, it will be treated as `np.float64 == np.dtype(float).type`.\n",
      "  from ._conv import register_converters as _register_converters\n"
     ]
    }
   ],
   "source": [
    "import tensorflow as tf\n",
    "import numpy as np\n",
    "import matplotlib.pyplot as plt\n",
    "import os\n",
    "from tqdm import tqdm\n",
    "import sys\n",
    "\n",
    "sys.path.insert(0, '../src')\n",
    "import deepgeo.common.visualization as vis"
   ]
  },
  {
   "cell_type": "code",
   "execution_count": 2,
   "metadata": {},
   "outputs": [],
   "source": [
    "DATA_DIR = '/home/raian/doutorado/Dados/generated'\n",
    "DATASET = os.path.join(DATA_DIR, 'dataset_286x286_def_one_cl_rm_nd_SR-2013-2017')\n",
    "train_tfrecord = os.path.join(DATASET, 'dataset_test.tfrecord')"
   ]
  },
  {
   "cell_type": "code",
   "execution_count": 3,
   "metadata": {},
   "outputs": [],
   "source": [
    "# def wrap_bytes(value):\n",
    "#     return tf.train.Feature(bytes_list=tf.train.BytesList(value=[value]))\n",
    "\n",
    "# def wrap_float(value):\n",
    "#     return tf.train.Feature(float_list=tf.train.FloatList(value=[value]))\n",
    "\n",
    "# def wrap_int64(value):\n",
    "#     return tf.train.Feature(int64_list=tf.train.Int64List(value=[value]))\n",
    "\n",
    "# def save_to_tfrecord(out_path, imgs, labels):\n",
    "#     with tf.python_io.TFRecordWriter(out_path) as writer:\n",
    "# #         total_prog = imgs.shape[0]\n",
    "#         for i in range(imgs.shape[0]):\n",
    "# #             print_progress(i, total_prog)\n",
    "#             img = imgs[i, :, :, :]\n",
    "#             lbl = labels[i, :, :, :]\n",
    "            \n",
    "#             height = img.shape[0]\n",
    "#             width = img.shape[1]\n",
    "#             channels = img.shape[2]\n",
    "            \n",
    "#             img_raw = img.tostring()\n",
    "#             lbl_raw = lbl.tostring()\n",
    "            \n",
    "#             feature = {'image': wrap_bytes(img_raw),\n",
    "#                        'label': wrap_bytes(lbl_raw),\n",
    "#                        'channels': wrap_int64(channels),\n",
    "#                        'height': wrap_int64(height),\n",
    "#                        'width': wrap_int64(width)}\n",
    "            \n",
    "#             example = tf.train.Example(features=tf.train.Features(feature=feature))\n",
    "#             writer.write(example.SerializeToString())\n",
    "            \n",
    "# save_to_tfrecord(train_tfrecord, train_images, train_labels)"
   ]
  },
  {
   "cell_type": "code",
   "execution_count": 6,
   "metadata": {},
   "outputs": [],
   "source": [
    "def parse(serialized):\n",
    "    features = {'image': tf.FixedLenFeature([], tf.string, default_value=''),\n",
    "                'channels': tf.FixedLenFeature([], tf.int64, default_value=0),\n",
    "                'label': tf.FixedLenFeature([], tf.string, default_value=''),\n",
    "                'height': tf.FixedLenFeature([], tf.int64, default_value=0),\n",
    "                'width': tf.FixedLenFeature([], tf.int64, default_value=0)}\n",
    "\n",
    "    parsed_features = tf.parse_single_example(serialized=serialized, features=features)\n",
    "    num_bands = parsed_features['channels']\n",
    "    height = parsed_features['height']\n",
    "    width = parsed_features['width']\n",
    "    \n",
    "#     shape_img = tf.stack([height, width, num_bands])\n",
    "#     shape_lbl = tf.stack([height, width, 1])\n",
    "    \n",
    "    image = tf.decode_raw(parsed_features['image'], tf.float32)\n",
    "    image = tf.reshape(image, [286, 286, 5])\n",
    "\n",
    "    label = tf.decode_raw(parsed_features['label'], tf.int32)\n",
    "    label = tf.reshape(label, [286, 286, 1])\n",
    "    \n",
    "    print(image.shape)\n",
    "\n",
    "    return image, label"
   ]
  },
  {
   "cell_type": "code",
   "execution_count": 7,
   "metadata": {
    "scrolled": false
   },
   "outputs": [
    {
     "name": "stdout",
     "output_type": "stream",
     "text": [
      "(286, 286, 5)\n",
      "Valid samples:  1968\n"
     ]
    }
   ],
   "source": [
    "#TODO: Try to save the total number of chips in the TFRecord\n",
    "import matplotlib.colors as mcolors\n",
    "from skimage import exposure\n",
    "\n",
    "tf.enable_eager_execution()\n",
    "ds = tf.data.TFRecordDataset(train_tfrecord)\n",
    "# ds = ds.shuffle(5000).take(2).map(parse)\n",
    "ds = ds.map(parse)\n",
    "count = 0\n",
    "for img_t, lbl_t in ds:\n",
    "    count += 1\n",
    "\n",
    "print('Valid samples: ', count)\n",
    "#     img = img_t.numpy()\n",
    "#     lbl = lbl_t.numpy()\n",
    "#     print('UNIQUE Labels: ', np.unique(lbl))\n",
    "    \n",
    "#     cl_names = ['no_data', 'not deforestation', 'deforestation', 'clouds']\n",
    "#     colors=['white', 'green', 'yellow', 'blue']\n",
    "    \n",
    "#     num_classes = len(cl_names)\n",
    "#     bounds = [-0.1] + list(range(0, num_classes)) + [num_classes - 0.9]\n",
    "    \n",
    "#     for band in range(img.shape[2]):\n",
    "#         p2, p98 = np.percentile(img[:, :, band], (2, 98))\n",
    "#         img[:, :, band] = exposure.rescale_intensity(img[:, :, band], in_range=(p2, p98))\n",
    "    \n",
    "    \n",
    "#     plt.figure()\n",
    "#     plt.imshow(img[:,:,[3, 2, 1]])\n",
    "#     plt.axis('off')\n",
    "    \n",
    "#     plt.figure()\n",
    "#     plt.imshow(img[:,:,[8, 7, 6]])\n",
    "#     plt.axis('off')\n",
    "    \n",
    "    \n",
    "#     colorMap = mcolors.ListedColormap(colors)\n",
    "#     norm = mcolors.BoundaryNorm(bounds, colorMap.N) \n",
    "    \n",
    "#     plt.figure()\n",
    "#     plt.imshow(lbl[:,:,0], cmap=colorMap, norm=norm)\n",
    "#     plt.axis('off')"
   ]
  },
  {
   "cell_type": "code",
   "execution_count": null,
   "metadata": {},
   "outputs": [],
   "source": [
    "def _rot90(image, label):\n",
    "    image = tf.image.rot90(image, 1)\n",
    "    label = tf.image.rot90(label, 1)\n",
    "    return image, label\n",
    "\n",
    "def _flip_left_right(image, label):\n",
    "    image = tf.image.flip_left_right(image)\n",
    "    label = tf.image.flip_left_right(label)\n",
    "    return image, label"
   ]
  },
  {
   "cell_type": "code",
   "execution_count": null,
   "metadata": {},
   "outputs": [],
   "source": [
    "ds_rot = ds.map(_rot90)\n",
    "ds_flip = ds.map(_flip_left_right)\n",
    "ds = ds.concatenate(ds_rot)\n",
    "ds = ds.concatenate(ds_flip)\n",
    "ds = ds.shuffle(10)"
   ]
  },
  {
   "cell_type": "code",
   "execution_count": null,
   "metadata": {
    "scrolled": false
   },
   "outputs": [],
   "source": [
    "for img_t, lbl_t in ds:\n",
    "    img = img_t.numpy()\n",
    "    lbl = lbl_t.numpy()\n",
    "    \n",
    "    plt.figure()\n",
    "    plt.imshow(img[:,:,[6, 5, 4]])\n",
    "    \n",
    "    plt.figure()\n",
    "    plt.imshow(lbl[:,:,0])\n",
    "    plt.colorbar()"
   ]
  },
  {
   "cell_type": "markdown",
   "metadata": {},
   "source": [
    "# aaaaa\n"
   ]
  },
  {
   "cell_type": "markdown",
   "metadata": {},
   "source": [
    "import tensorflow as tf\n",
    "tf.__version__\n",
    "tf.enable_eager_execution()\n",
    "top = tf.data.Dataset.range(10)\n",
    "for haha in top: print(haha)\n",
    "for haha in top: print(haha)\n",
    "def _left_parse(value):\n",
    "    return value * 2\n",
    "left = top.map(_left_parse)\n",
    "for haha in left: print(left)\n",
    "for haha in left: print(haha)\n",
    "def _right_parse(value):\n",
    "    return value * 3\n",
    "right = top.map(_right_parse)\n",
    "for haha in right: print(haha)\n",
    "bottom = tf.data.Dataset.zip([left, right])\n",
    "bottom = tf.data.Dataset.zip((left, right))\n",
    "for haha in bottom: print(haha)\n",
    "bottom = tf.data.Dataset.zip((top, left, right))\n",
    "for haha in bottom: print(haha)\n",
    "bottom = tf.data.Dataset.concatenate((top, left, right))\n",
    "top_left = top.concatenate(left)\n",
    "top_left_right = top_left.concatenate(right)\n",
    "for haha in top_left_right: print(haha)\n",
    "top_left_right = top_left_right.shuffle(20)\n",
    "top_left_right = top_left_right.repeat(2)\n",
    "for idx, haha in enumerate(top_left_right): print(idx, haha)\n",
    "top_left_right = top_left_right.shuffle(100)\n",
    "for idx, haha in enumerate(top_left_right): print(idx, haha)"
   ]
  }
 ],
 "metadata": {
  "kernelspec": {
   "display_name": "Python 3",
   "language": "python",
   "name": "python3"
  },
  "language_info": {
   "codemirror_mode": {
    "name": "ipython",
    "version": 3
   },
   "file_extension": ".py",
   "mimetype": "text/x-python",
   "name": "python",
   "nbconvert_exporter": "python",
   "pygments_lexer": "ipython3",
   "version": "3.5.5"
  }
 },
 "nbformat": 4,
 "nbformat_minor": 2
}
