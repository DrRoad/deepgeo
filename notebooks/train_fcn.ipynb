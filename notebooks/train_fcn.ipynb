{
 "cells": [
  {
   "cell_type": "code",
   "execution_count": 1,
   "metadata": {},
   "outputs": [
    {
     "name": "stderr",
     "output_type": "stream",
     "text": [
      "/home/raian/anaconda3/envs/tensorflow/lib/python3.5/site-packages/h5py/__init__.py:36: FutureWarning: Conversion of the second argument of issubdtype from `float` to `np.floating` is deprecated. In future, it will be treated as `np.float64 == np.dtype(float).type`.\n",
      "  from ._conv import register_converters as _register_converters\n"
     ]
    },
    {
     "data": {
      "text/plain": [
       "<module 'deepgeo.common.geofunctions' from '../src/deepgeo/common/geofunctions.py'>"
      ]
     },
     "execution_count": 1,
     "metadata": {},
     "output_type": "execute_result"
    }
   ],
   "source": [
    "import tensorflow as tf\n",
    "import numpy as np\n",
    "import os\n",
    "import sys\n",
    "from importlib import reload\n",
    "from datetime import datetime\n",
    "\n",
    "sys.path.insert(0, '../src')\n",
    "import deepgeo.dataset.data_augment as dtaug\n",
    "import deepgeo.dataset.utils as dsutils \n",
    "import deepgeo.common.geofunctions as gf\n",
    "import deepgeo.networks.model_builder as mb\n",
    "\n",
    "reload(dtaug)\n",
    "reload(dsutils)\n",
    "reload(mb)\n",
    "reload(gf)"
   ]
  },
  {
   "cell_type": "markdown",
   "metadata": {},
   "source": [
    "# Load input Dataset"
   ]
  },
  {
   "cell_type": "code",
   "execution_count": 2,
   "metadata": {},
   "outputs": [],
   "source": [
    "# DATA_DIR = os.path.join(os.path.abspath(os.path.dirname('__file__')), '../', 'data_real', 'generated')\n",
    "network = 'unet'\n",
    "DATA_DIR = '/home/raian/doutorado/Dados/generated'\n",
    "# DATASET_FILE = os.path.join(DATA_DIR, 'new_dataset_286x286_timesstack-2013-2017.npz')\n",
    "DATASET = os.path.join(DATA_DIR, 'dataset_286x286_tmstk-2013-2017')\n",
    "\n",
    "class_names = ['no_data', 'not_deforestation', 'deforestation']\n",
    "# model_dir = os.path.join(DATA_DIR, 'tf_logs', network,\n",
    "#                          'test_%s_%s' % (network, datetime.now().strftime('%d_%m_%Y-%H_%M_%S')))\n",
    "# model_dir = '/home/raian/doutorado/deepgeo/data_real/generated/tf_logs/test_debug'\n",
    "model_dir = os.path.join(DATA_DIR, 'tf_logs', 'experiments', 'unet', 'test_unet_22_05_2019-19_02_54')\n",
    "train_tfrecord = os.path.join(DATASET, 'dataset_train.tfrecord')\n",
    "test_tfrecord = os.path.join(DATASET, 'dataset_test.tfrecord')\n",
    "val_dataset = os.path.join(DATASET, 'dataset_valid.npz')"
   ]
  },
  {
   "cell_type": "code",
   "execution_count": 3,
   "metadata": {},
   "outputs": [],
   "source": [
    "# !rm -rf {model_dir}/*\n",
    "# !ls -al {model_dir}"
   ]
  },
  {
   "cell_type": "markdown",
   "metadata": {},
   "source": [
    "## Computing weights"
   ]
  },
  {
   "cell_type": "code",
   "execution_count": 4,
   "metadata": {},
   "outputs": [
    {
     "name": "stdout",
     "output_type": "stream",
     "text": [
      "WARNING:tensorflow:From /home/raian/anaconda3/envs/tensorflow/lib/python3.5/site-packages/tensorflow/python/data/ops/iterator_ops.py:532: colocate_with (from tensorflow.python.framework.ops) is deprecated and will be removed in a future version.\n",
      "Instructions for updating:\n",
      "Colocations handled automatically by placer.\n"
     ]
    }
   ],
   "source": [
    "def parse(serialized):\n",
    "    features = {'label': tf.FixedLenFeature([], tf.string, default_value=''),\n",
    "                'height': tf.FixedLenFeature([], tf.int64, default_value=0),\n",
    "                'width': tf.FixedLenFeature([], tf.int64, default_value=0)}\n",
    "\n",
    "    parsed_features = tf.parse_single_example(serialized=serialized, features=features)\n",
    "    height = parsed_features['height']\n",
    "    width = parsed_features['width']\n",
    "\n",
    "    label = tf.decode_raw(parsed_features['label'], tf.int32)\n",
    "    label = tf.reshape(label, [height, width, 1])\n",
    "\n",
    "    return label\n",
    "\n",
    "def compute_weights_mean_proportion(tfrecord, classes, classes_zero=['no_data']):\n",
    "    tf.enable_eager_execution()\n",
    "    train_ds = tf.data.TFRecordDataset(tfrecord)\n",
    "    train_ds = train_ds.map(parse)\n",
    "    tot_count = [0] * len(classes)\n",
    "    for label in train_ds:\n",
    "        label = label.numpy()\n",
    "        unique, count = np.unique(label, return_counts=True)\n",
    "        for k, v in enumerate(unique):\n",
    "            if classes[v] not in classes_zero:\n",
    "                tot_count[v] += count[k]\n",
    "    total = sum(tot_count)\n",
    "    proportions = [i / total for i in tot_count]\n",
    "    mean_prop = sum(proportions)/ (len(proportions) - len(classes_zero))\n",
    "    weights = [mean_prop / i if i != 0 else 0 for i in proportions]\n",
    "    return weights\n",
    "    \n",
    "weights_train = compute_weights_mean_proportion(train_tfrecord, class_names, ['no_data'])\n",
    "weights_eval = compute_weights_mean_proportion(test_tfrecord, class_names, ['no_data'])"
   ]
  },
  {
   "cell_type": "code",
   "execution_count": 5,
   "metadata": {},
   "outputs": [],
   "source": [
    "# print(weights_train)\n",
    "# print(weights_eval)"
   ]
  },
  {
   "cell_type": "markdown",
   "metadata": {},
   "source": [
    "# Train the Network"
   ]
  },
  {
   "cell_type": "code",
   "execution_count": 6,
   "metadata": {},
   "outputs": [],
   "source": [
    "params = {\n",
    "    'epochs': 1,\n",
    "    'batch_size': 40,\n",
    "    'chip_size': 286,\n",
    "    'bands': 10,\n",
    "    'filter_reduction': 0.5,\n",
    "    'learning_rate': 0.1,\n",
    "    'learning_rate_decay': True,\n",
    "    'decay_rate': 0.95,\n",
    "    'l2_reg_rate': 0.0005,\n",
    "    # 'var_scale_factor': 2.0,  # TODO: Put the initializer as parameter\n",
    "    'chips_tensorboard': 2,\n",
    "    # 'dropout_rate': 0.5,  # TODO: Put a bool parameter to apply or not Dropout\n",
    "    'fusion': 'early',\n",
    "    'loss_func': 'weighted_crossentropy',\n",
    "    'data_aug_ops': ['rot90', 'rot180', 'rot270', 'flip_left_right',\n",
    "                     'flip_up_down', 'flip_transpose'],\n",
    "    'class_weights': {'train': weights_train, 'eval': weights_eval},\n",
    "    'num_classes': len(class_names),\n",
    "    'class_names': ['no data', 'not deforestation', 'deforestation'],\n",
    "    'num_compositions': 2,\n",
    "    'bands_plot': [[1, 2, 3], [6, 7, 8]],\n",
    "    'Notes': 'Testing.'\n",
    "}\n",
    "reload(mb)\n",
    "model = mb.ModelBuilder(network)"
   ]
  },
  {
   "cell_type": "code",
   "execution_count": 7,
   "metadata": {
    "scrolled": false
   },
   "outputs": [],
   "source": [
    "# model.train(train_tfrecord, test_tfrecord, params, model_dir)"
   ]
  },
  {
   "cell_type": "code",
   "execution_count": 8,
   "metadata": {
    "scrolled": false
   },
   "outputs": [
    {
     "name": "stdout",
     "output_type": "stream",
     "text": [
      "WARNING:tensorflow:From /home/raian/anaconda3/envs/tensorflow/lib/python3.5/site-packages/tensorflow_estimator/python/estimator/inputs/queues/feeding_queue_runner.py:62: QueueRunner.__init__ (from tensorflow.python.training.queue_runner_impl) is deprecated and will be removed in a future version.\n",
      "Instructions for updating:\n",
      "To construct input pipelines, use the `tf.data` module.\n",
      "WARNING:tensorflow:From /home/raian/anaconda3/envs/tensorflow/lib/python3.5/site-packages/tensorflow_estimator/python/estimator/inputs/queues/feeding_functions.py:500: add_queue_runner (from tensorflow.python.training.queue_runner_impl) is deprecated and will be removed in a future version.\n",
      "Instructions for updating:\n",
      "To construct input pipelines, use the `tf.data` module.\n",
      "\n",
      "WARNING: The TensorFlow contrib module will not be included in TensorFlow 2.0.\n",
      "For more information, please see:\n",
      "  * https://github.com/tensorflow/community/blob/master/rfcs/20180907-contrib-sunset.md\n",
      "  * https://github.com/tensorflow/addons\n",
      "If you depend on functionality not listed there, please file an issue.\n",
      "\n",
      "WARNING:tensorflow:From ../src/deepgeo/networks/../common/../networks/unet.py:23: conv2d (from tensorflow.python.layers.convolutional) is deprecated and will be removed in a future version.\n",
      "Instructions for updating:\n",
      "Use keras.layers.conv2d instead.\n",
      "WARNING:tensorflow:From ../src/deepgeo/networks/../common/../networks/layers.py:19: batch_normalization (from tensorflow.python.layers.normalization) is deprecated and will be removed in a future version.\n",
      "Instructions for updating:\n",
      "Use keras.layers.batch_normalization instead.\n",
      "WARNING:tensorflow:From ../src/deepgeo/networks/../common/../networks/layers.py:28: max_pooling2d (from tensorflow.python.layers.pooling) is deprecated and will be removed in a future version.\n",
      "Instructions for updating:\n",
      "Use keras.layers.max_pooling2d instead.\n",
      "WARNING:tensorflow:From ../src/deepgeo/networks/../common/../networks/layers.py:46: conv2d_transpose (from tensorflow.python.layers.convolutional) is deprecated and will be removed in a future version.\n",
      "Instructions for updating:\n",
      "Use keras.layers.conv2d_transpose instead.\n",
      "INFO:tensorflow:Done calling model_fn.\n",
      "INFO:tensorflow:Graph was finalized.\n",
      "WARNING:tensorflow:From /home/raian/anaconda3/envs/tensorflow/lib/python3.5/site-packages/tensorflow/python/training/saver.py:1266: checkpoint_exists (from tensorflow.python.training.checkpoint_management) is deprecated and will be removed in a future version.\n",
      "Instructions for updating:\n",
      "Use standard file APIs to check for files with this prefix.\n",
      "INFO:tensorflow:Restoring parameters from /home/raian/doutorado/Dados/generated/tf_logs/experiments/unet/test_unet_22_05_2019-19_02_54/model.ckpt-20663\n",
      "INFO:tensorflow:Running local_init_op.\n",
      "INFO:tensorflow:Done running local_init_op.\n",
      "WARNING:tensorflow:From /home/raian/anaconda3/envs/tensorflow/lib/python3.5/site-packages/tensorflow/python/training/monitored_session.py:809: start_queue_runners (from tensorflow.python.training.queue_runner_impl) is deprecated and will be removed in a future version.\n",
      "Instructions for updating:\n",
      "To construct input pipelines, use the `tf.data` module.\n",
      "<<------------------------------------------------------------>>\n",
      "<<------------------ Validation Results ---------------------->>\n",
      "<<------------------------------------------------------------>>\n",
      "F1-Score:\n",
      "  - not deforestation: 0.984152729246574\n",
      "  - deforestation: 0.2042850109143315\n",
      "Precision:\n",
      "  - not deforestation: 0.9980402026478262\n",
      "  - deforestation: 0.1202610378818413\n",
      "Recall:\n",
      "  - not deforestation: 0.9706464331211989\n",
      "  - deforestation: 0.677966814872996\n",
      "AUC-ROC: 0.9614477733343115\n",
      "Classification Report:\n",
      "                   precision    recall  f1-score   support\n",
      "\n",
      "not deforestation       1.00      0.97      0.98  12046134\n",
      "    deforestation       0.12      0.68      0.20     71297\n",
      "\n",
      "      avg / total       0.99      0.97      0.98  12117431\n",
      "\n",
      "Confusion Matrix:\n",
      "[[0.97064643 0.02935357]\n",
      " [0.32203319 0.67796681]]\n",
      "\n"
     ]
    },
    {
     "data": {
      "image/png": "[encoded data removed]",
      "text/plain": [
       "<Figure size 432x288 with 2 Axes>"
      ]
     },
     "metadata": {},
     "output_type": "display_data"
    },
    {
     "data": {
      "image/png": "[encoded data removed]",
      "text/plain": [
       "<Figure size 432x288 with 1 Axes>"
      ]
     },
     "metadata": {},
     "output_type": "display_data"
    }
   ],
   "source": [
    "dataset = np.load(val_dataset)\n",
    "model.validate(dataset['chips'], dataset['labels'], params, model_dir)"
   ]
  },
  {
   "cell_type": "code",
   "execution_count": null,
   "metadata": {},
   "outputs": [],
   "source": []
  }
 ],
 "metadata": {
  "kernelspec": {
   "display_name": "Python 3",
   "language": "python",
   "name": "python3"
  },
  "language_info": {
   "codemirror_mode": {
    "name": "ipython",
    "version": 3
   },
   "file_extension": ".py",
   "mimetype": "text/x-python",
   "name": "python",
   "nbconvert_exporter": "python",
   "pygments_lexer": "ipython3",
   "version": "3.5.5"
  }
 },
 "nbformat": 4,
 "nbformat_minor": 2
}
