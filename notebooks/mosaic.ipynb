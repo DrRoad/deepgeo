{
 "cells": [
  {
   "cell_type": "code",
   "execution_count": 43,
   "metadata": {},
   "outputs": [
    {
     "data": {
      "text/plain": [
       "<module 'deepleeo.dataset.image_utils' from '../src/deepleeo/dataset/image_utils.py'>"
      ]
     },
     "execution_count": 43,
     "metadata": {},
     "output_type": "execute_result"
    }
   ],
   "source": [
    "import sys\n",
    "import os\n",
    "from importlib import reload\n",
    "import pylab as plt\n",
    "import skimage\n",
    "import numpy as np\n",
    "from skimage import exposure\n",
    "\n",
    "sys.path.insert(0, '../src')\n",
    "import deepleeo.dataset.image_utils as iutils\n",
    "import deepleeo.utils.geofunctions as gf\n",
    "\n",
    "reload(iutils)"
   ]
  },
  {
   "cell_type": "code",
   "execution_count": 44,
   "metadata": {},
   "outputs": [],
   "source": [
    "DATA_DIR = \"/home/raian/doutorado/Dados/2015/stacked_imgs\"\n",
    "input_files = [os.path.join(DATA_DIR, \"LC08_L1TP_224064_24072015.tif\"),\n",
    "               os.path.join(DATA_DIR, \"LC08_L1TP_225064_16082015.tif\"),\n",
    "               os.path.join(DATA_DIR, \"LC08_L1TP_225063_15072015.tif\"),\n",
    "               os.path.join(DATA_DIR, \"LC08_L1TP_224063_10092015.tif\")]\n",
    "\n",
    "band_names = [\"Green\", \"Red\", \"NIR\", \"SWIR_1\", \"SWIR_2\"]\n",
    "out_img = os.path.join(DATA_DIR, \"mosaic_2015.tif\")"
   ]
  },
  {
   "cell_type": "code",
   "execution_count": 45,
   "metadata": {},
   "outputs": [
    {
     "name": "stdout",
     "output_type": "stream",
     "text": [
      "['gdal_merge.py', '-o', '/home/raian/doutorado/Dados/2015/stacked_imgs/mosaic_2015.tif', '-q', '-v', '/home/raian/doutorado/Dados/2015/stacked_imgs/LC08_L1TP_224064_24072015.tif', '/home/raian/doutorado/Dados/2015/stacked_imgs/LC08_L1TP_225064_16082015.tif', '/home/raian/doutorado/Dados/2015/stacked_imgs/LC08_L1TP_225063_15072015.tif', '/home/raian/doutorado/Dados/2015/stacked_imgs/LC08_L1TP_224063_10092015.tif'] \n",
      "\n",
      "b'Traceback (most recent call last):'\n",
      "b'  File \"/home/raian/anaconda3/envs/tensorflow/bin/gdal_merge.py\", line 4, in <module>'\n",
      "b\"    __import__('pkg_resources').run_script('GDAL==2.2.4', 'gdal_merge.py')\"\n",
      "b'  File \"/home/raian/anaconda3/envs/tensorflow/lib/python3.5/site-packages/pkg_resources/__init__.py\", line 658, in run_script'\n",
      "b'    self.require(requires)[0].run_script(script_name, ns)'\n",
      "b'  File \"/home/raian/anaconda3/envs/tensorflow/lib/python3.5/site-packages/pkg_resources/__init__.py\", line 1438, in run_script'\n",
      "b'    exec(code, namespace, namespace)'\n",
      "b'  File \"/home/raian/anaconda3/envs/tensorflow/lib/python3.5/site-packages/GDAL-2.2.4-py3.5-linux-x86_64.egg-info/scripts/gdal_merge.py\", line 540, in <module>'\n",
      "b'    sys.exit(main())'\n",
      "b'  File \"/home/raian/anaconda3/envs/tensorflow/lib/python3.5/site-packages/GDAL-2.2.4-py3.5-linux-x86_64.egg-info/scripts/gdal_merge.py\", line 470, in main'\n",
      "b'    band_type, create_options )'\n",
      "b'  File \"/home/raian/anaconda3/envs/tensorflow/lib/python3.5/site-packages/osgeo/gdal.py\", line 1541, in Create'\n",
      "b'    return _gdal.Driver_Create(self, *args, **kwargs)'\n",
      "b\"OverflowError: in method 'Driver_Create', argument 4 of type 'int'\"\n"
     ]
    }
   ],
   "source": [
    "iutils.mosaic_images(input_files, out_img) #TODO: This method must be reviewed. It is not working\n",
    "# iutils.stack_bands(input_files, out_img, band_names)"
   ]
  },
  {
   "cell_type": "code",
   "execution_count": 46,
   "metadata": {},
   "outputs": [
    {
     "ename": "AttributeError",
     "evalue": "'NoneType' object has no attribute 'RasterCount'",
     "output_type": "error",
     "traceback": [
      "\u001b[0;31m---------------------------------------------------------------------------\u001b[0m",
      "\u001b[0;31mAttributeError\u001b[0m                            Traceback (most recent call last)",
      "\u001b[0;32m<ipython-input-46-b81001af1622>\u001b[0m in \u001b[0;36m<module>\u001b[0;34m()\u001b[0m\n\u001b[0;32m----> 1\u001b[0;31m \u001b[0mraster_img\u001b[0m \u001b[0;34m=\u001b[0m \u001b[0mgf\u001b[0m\u001b[0;34m.\u001b[0m\u001b[0mload_image\u001b[0m\u001b[0;34m(\u001b[0m\u001b[0mout_img\u001b[0m\u001b[0;34m,\u001b[0m \u001b[0mno_data\u001b[0m\u001b[0;34m=\u001b[0m\u001b[0;34m-\u001b[0m\u001b[0;36m9999\u001b[0m\u001b[0;34m)\u001b[0m\u001b[0;34m\u001b[0m\u001b[0m\n\u001b[0m\u001b[1;32m      2\u001b[0m \u001b[0mprint\u001b[0m\u001b[0;34m(\u001b[0m\u001b[0mraster_img\u001b[0m\u001b[0;34m.\u001b[0m\u001b[0mshape\u001b[0m\u001b[0;34m)\u001b[0m\u001b[0;34m\u001b[0m\u001b[0m\n\u001b[1;32m      3\u001b[0m \u001b[0mplt\u001b[0m\u001b[0;34m.\u001b[0m\u001b[0mfigure\u001b[0m\u001b[0;34m(\u001b[0m\u001b[0mfigsize\u001b[0m\u001b[0;34m=\u001b[0m\u001b[0;34m(\u001b[0m\u001b[0;36m10\u001b[0m\u001b[0;34m,\u001b[0m\u001b[0;36m10\u001b[0m\u001b[0;34m)\u001b[0m\u001b[0;34m)\u001b[0m\u001b[0;34m\u001b[0m\u001b[0m\n\u001b[1;32m      4\u001b[0m \u001b[0mplt\u001b[0m\u001b[0;34m.\u001b[0m\u001b[0mtitle\u001b[0m\u001b[0;34m(\u001b[0m\u001b[0;34m'Built Mosaic'\u001b[0m\u001b[0;34m)\u001b[0m\u001b[0;34m\u001b[0m\u001b[0m\n\u001b[1;32m      5\u001b[0m \u001b[0mraster_img\u001b[0m \u001b[0;34m=\u001b[0m \u001b[0mskimage\u001b[0m\u001b[0;34m.\u001b[0m\u001b[0mimg_as_ubyte\u001b[0m\u001b[0;34m(\u001b[0m\u001b[0mraster_img\u001b[0m\u001b[0;34m)\u001b[0m\u001b[0;34m\u001b[0m\u001b[0m\n",
      "\u001b[0;32m~/doutorado/DeepLeEO/src/deepleeo/utils/geofunctions.py\u001b[0m in \u001b[0;36mload_image\u001b[0;34m(filepath, no_data)\u001b[0m\n\u001b[1;32m     11\u001b[0m \u001b[0;34m\u001b[0m\u001b[0m\n\u001b[1;32m     12\u001b[0m     \u001b[0mimg\u001b[0m \u001b[0;34m=\u001b[0m \u001b[0;32mNone\u001b[0m\u001b[0;34m\u001b[0m\u001b[0m\n\u001b[0;32m---> 13\u001b[0;31m     \u001b[0;32mfor\u001b[0m \u001b[0mi\u001b[0m \u001b[0;32min\u001b[0m \u001b[0mrange\u001b[0m\u001b[0;34m(\u001b[0m\u001b[0;36m1\u001b[0m\u001b[0;34m,\u001b[0m \u001b[0mimg_ds\u001b[0m\u001b[0;34m.\u001b[0m\u001b[0mRasterCount\u001b[0m \u001b[0;34m+\u001b[0m \u001b[0;36m1\u001b[0m\u001b[0;34m)\u001b[0m\u001b[0;34m:\u001b[0m\u001b[0;34m\u001b[0m\u001b[0m\n\u001b[0m\u001b[1;32m     14\u001b[0m         \u001b[0mband\u001b[0m \u001b[0;34m=\u001b[0m \u001b[0mimg_ds\u001b[0m\u001b[0;34m.\u001b[0m\u001b[0mGetRasterBand\u001b[0m\u001b[0;34m(\u001b[0m\u001b[0mi\u001b[0m\u001b[0;34m)\u001b[0m\u001b[0;34m\u001b[0m\u001b[0m\n\u001b[1;32m     15\u001b[0m         \u001b[0mband_arr\u001b[0m \u001b[0;34m=\u001b[0m \u001b[0mband\u001b[0m\u001b[0;34m.\u001b[0m\u001b[0mReadAsArray\u001b[0m\u001b[0;34m(\u001b[0m\u001b[0;34m)\u001b[0m\u001b[0;34m\u001b[0m\u001b[0m\n",
      "\u001b[0;31mAttributeError\u001b[0m: 'NoneType' object has no attribute 'RasterCount'"
     ]
    }
   ],
   "source": [
    "raster_img = gf.load_image(out_img, no_data=-9999)\n",
    "print(raster_img.shape)\n",
    "plt.figure(figsize=(10,10))\n",
    "plt.title('Built Mosaic')\n",
    "raster_img = skimage.img_as_ubyte(raster_img)\n",
    "for i in range(raster_img.shape[2]):\n",
    "    p2, p98 = np.percentile(raster_img[:,:,i], (2, 98))\n",
    "    raster_img[:,:,i] = exposure.rescale_intensity(raster_img[:,:,i], in_range=(p2, p98))\n",
    "plt.imshow(raster_img)\n",
    "plt.axis('off')"
   ]
  },
  {
   "cell_type": "code",
   "execution_count": null,
   "metadata": {},
   "outputs": [],
   "source": []
  }
 ],
 "metadata": {
  "kernelspec": {
   "display_name": "Python 3",
   "language": "python",
   "name": "python3"
  },
  "language_info": {
   "codemirror_mode": {
    "name": "ipython",
    "version": 3
   },
   "file_extension": ".py",
   "mimetype": "text/x-python",
   "name": "python",
   "nbconvert_exporter": "python",
   "pygments_lexer": "ipython3",
   "version": "3.5.5"
  }
 },
 "nbformat": 4,
 "nbformat_minor": 2
}
