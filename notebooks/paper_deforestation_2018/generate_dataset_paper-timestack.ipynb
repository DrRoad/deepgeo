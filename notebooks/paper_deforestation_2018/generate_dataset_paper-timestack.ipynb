{
 "cells": [
  {
   "cell_type": "markdown",
   "metadata": {},
   "source": [
    "# Generate samples for the Deforestation Paper with multi-temporal stack"
   ]
  },
  {
   "cell_type": "code",
   "execution_count": 1,
   "metadata": {},
   "outputs": [
    {
     "name": "stderr",
     "output_type": "stream",
     "text": [
      "/home/raian/anaconda3/envs/tensorflow/lib/python3.5/site-packages/h5py/__init__.py:36: FutureWarning: Conversion of the second argument of issubdtype from `float` to `np.floating` is deprecated. In future, it will be treated as `np.float64 == np.dtype(float).type`.\n",
      "  from ._conv import register_converters as _register_converters\n"
     ]
    }
   ],
   "source": [
    "import sys\n",
    "import os\n",
    "# import pylab as plt\n",
    "import numpy as np\n",
    "# from matplotlib.colors import ListedColormap\n",
    "# from osgeo import gdal\n",
    "# from osgeo import ogr\n",
    "from importlib import reload\n",
    "# import skimage\n",
    "\n",
    "sys.path.insert(0, '../../src')\n",
    "import deepgeo.dataset.dataset_generator as dsgen\n",
    "import deepgeo.dataset.rasterizer as rstzr\n",
    "import deepgeo.dataset.preprocessor as prep\n",
    "import deepgeo.dataset.sequential_chips as seq_cg\n",
    "import deepgeo.common.geofunctions as gf\n",
    "import deepgeo.common.visualization as vis\n",
    "\n",
    "# reload(dtaug)\n",
    "reload(rstzr)\n",
    "reload(prep)\n",
    "reload(seq_cg)\n",
    "# reload(fs)\n",
    "reload(gf)\n",
    "reload(vis)\n",
    "\n",
    "%matplotlib inline"
   ]
  },
  {
   "cell_type": "code",
   "execution_count": 2,
   "metadata": {},
   "outputs": [],
   "source": [
    "# Input Files\n",
    "DATA_DIR = \"/home/raian/doutorado/Dados/generated\"\n",
    "shape_file = os.path.join(DATA_DIR, 'Prodes_mosaic.shp')\n",
    "raster_files = [#os.path.join(DATA_DIR, \"stacked_mosaic_2013_2014.tif\"),\n",
    "#                 os.path.join(DATA_DIR, \"stacked_mosaic_2014_2015.tif\"),\n",
    "#                 os.path.join(DATA_DIR, \"stacked_mosaic_2015_2016.tif\"),\n",
    "#                 os.path.join(DATA_DIR, \"stacked_mosaic_2016_2017.tif\")] #,\n",
    "                os.path.join(DATA_DIR, \"stacked_mosaic_2017_2018.tif\")]\n",
    "\n",
    "classes_of_interest = [['d2018']] # ['d2014'], ['d2015'], ['d2016'], ['d2017']] #, ['d2018']]\n",
    "non_class = \"not_deforestation\"\n",
    "class_column = \"class_name\"\n",
    "class_names = ['not_deforestation', 'deforestation']\n",
    "\n",
    "# Output Files\n",
    "output_path = DATA_DIR\n",
    "# fs.mkdir(output_path)\n",
    "out_labels = [#os.path.join(output_path, 'labels_2014.tif'),\n",
    "              #os.path.join(output_path, 'labels_2015.tif'),\n",
    "              #os.path.join(output_path, 'labels_2016.tif'),\n",
    "              #os.path.join(output_path, 'labels_2017.tif')] #,\n",
    "              os.path.join(output_path, 'labels_2018.tif')]\n",
    "# output_shp = os.path.join(output_path, \"new_samples.shp\")\n",
    "output_ds = os.path.join(output_path, 'dataset_286x286_no_samp_cl-2013-2017')\n",
    "ds_file_name = 'dataset'\n",
    "\n",
    "# number_of_samples = 5000\n",
    "chip_size = 286"
   ]
  },
  {
   "cell_type": "markdown",
   "metadata": {},
   "source": [
    "## Rasterize the input shape file"
   ]
  },
  {
   "cell_type": "code",
   "execution_count": 3,
   "metadata": {
    "scrolled": false
   },
   "outputs": [
    {
     "name": "stdout",
     "output_type": "stream",
     "text": [
      "SHAPE:  (11534, 13587, 1)\n"
     ]
    },
    {
     "data": {
      "image/png": "[encoded data removed]",
      "text/plain": [
       "<Figure size 720x720 with 2 Axes>"
      ]
     },
     "metadata": {},
     "output_type": "display_data"
    }
   ],
   "source": [
    "rasterized_layers = []\n",
    "for year in range(0, len(classes_of_interest)):\n",
    "    rasterizer = rstzr.Rasterizer(shape_file,\n",
    "                                  raster_files[year],\n",
    "                                  class_column,\n",
    "                                  classes_interest=classes_of_interest[year],\n",
    "                                  non_class_name=non_class)\n",
    "\n",
    "    rasterizer.collect_class_names()\n",
    "    rasterizer.rasterize_layer()\n",
    "    m_class_names = rasterizer.get_class_names()\n",
    "#     rasterizer.remove_labels_under_cloud(pos_qa=6, new_label=1)\n",
    "    rasterized_layers.append(rasterizer.get_labeled_raster())\n",
    "    rasterizer.save_labeled_raster_to_gtiff(out_labels[year])\n",
    "    print('SHAPE: ', rasterized_layers[year].shape)\n",
    "    \n",
    "    vis.plot_labels(rasterized_layers[year], m_class_names, colors=[\"green\", \"red\"])"
   ]
  },
  {
   "cell_type": "code",
   "execution_count": 4,
   "metadata": {
    "scrolled": false
   },
   "outputs": [],
   "source": [
    "# vis.plot_labels(rasterized_layer, class_names, colors=[\"green\", \"red\"])\n",
    "\n",
    "# values, count = np.unique(rasterized_layer, return_counts=True)\n",
    "# print(\"UNIQUE: \", values, count)\n",
    "\n",
    "# defor_proportion = count[1] / (count[0] + count[1])\n",
    "# non_defor_proportion = count[0] / (count[0] + count[1])\n",
    "# print('Deforestation Proportion: ', defor_proportion)\n",
    "# print('Non deforestation Proportion: ', non_defor_proportion)\n",
    "\n",
    "# print('Ratio: ', non_defor_proportion / defor_proportion)"
   ]
  },
  {
   "cell_type": "code",
   "execution_count": 7,
   "metadata": {
    "scrolled": false
   },
   "outputs": [
    {
     "name": "stdout",
     "output_type": "stream",
     "text": [
      "SHAPE:  (11534, 13587, 10)\n",
      "SHAPE:  (11534, 13587, 10)\n",
      "SHAPE:  (11534, 13587, 10)\n",
      "SHAPE:  (11534, 13587, 10)\n"
     ]
    }
   ],
   "source": [
    "reload(prep)\n",
    "raster_arrays = []\n",
    "for file in raster_files:\n",
    "    preproc = prep.Preprocessor(file, no_data=-9999)\n",
    "    preproc.set_nodata_value(-10)\n",
    "    preproc.remove_bands([0, 6])\n",
    "    original_raster = preproc.get_raster_stacked_raster()\n",
    "\n",
    "#     vis.plot_image_histogram(original_raster, cmap=[\"green\", \"red\", \"cyan\", \"blue\", \"yellow\"],\n",
    "#                              title=\"Original Raster\", legend=[\"Green\", \"Red\", \"NIR\", \"SWIR 1\", \"SWIR 2\"])\n",
    "#     vis.plot_rgb_img(original_raster, bands=[8,7,6], contrast=True)\n",
    "    \n",
    "    preproc.standardize_image()\n",
    "    raster_arrays.append(preproc.get_raster_stacked_raster())\n",
    "    print('SHAPE: ', preproc.get_raster_stacked_raster().shape)"
   ]
  },
  {
   "cell_type": "code",
   "execution_count": null,
   "metadata": {
    "scrolled": false
   },
   "outputs": [],
   "source": [
    "# for array in raster_arrays:\n",
    "#     vis.plot_image_histogram(array, cmap=[\"green\", \"red\", \"cyan\", \"blue\", \"yellow\"],\n",
    "#                              title=\"Standardized Raster\", legend=[\"Green\", \"Red\", \"NIR\", \"SWIR 1\", \"SWIR 2\"])"
   ]
  },
  {
   "cell_type": "code",
   "execution_count": 8,
   "metadata": {},
   "outputs": [],
   "source": [
    "# reload(dsgen)\n",
    "generator = dsgen.DatasetGenerator(raster_arrays, rasterized_layers)\n",
    "params = {'win_size': chip_size}\n",
    "generator.generate_chips(params)\n",
    "chip_struct = generator.get_samples()\n",
    "# vis.plot_chips(chip_struct, raster_arrays[0], bands=[8, 7, 6], contrast=False)\n",
    "generator.remove_no_data()\n",
    "generator.shuffle_ds()\n",
    "generator.split_ds()\n",
    "generator.save_to_disk(output_ds, ds_file_name)\n",
    "# chip_struct = generator.get_samples()\n",
    "# vis.plot_chips(chip_struct, raster_arrays[0], bands=[8, 7, 6], contrast=False)\n",
    "\n",
    "# =========================================\n",
    "# TODO: Move this dataset generation to a .py \n",
    "# file and keep this notebook only for plotting strategies.\n",
    "# Put progress bar here\n",
    "# ========================================="
   ]
  },
  {
   "cell_type": "code",
   "execution_count": null,
   "metadata": {
    "scrolled": false
   },
   "outputs": [],
   "source": [
    "# chip_struct = {'chips': [],\n",
    "#                'labels': [],\n",
    "#                'classes': class_names}\n",
    "# for i in range(0, len(raster_arrays)):\n",
    "#     params = {'raster_array': raster_arrays[i],\n",
    "#               'labels_array': rasterized_layers[i],\n",
    "#               'win_size': chip_size}\n",
    "\n",
    "#     chips_seq = seq_cg.SequentialChipGenerator(params).generate_chips()\n",
    "#     vis.plot_chips(chips_seq, raster_arrays[i], bands=[8, 7, 6], contrast=False)\n",
    "#     print(chips_seq['chips'].shape)\n",
    "#     chip_struct['chips'].append(chips_seq['chips'])\n",
    "#     chip_struct['labels'].append(chips_seq['labels'])\n",
    "\n",
    "# chip_struct['chips'] = np.concatenate(chip_struct['chips'], axis=0)\n",
    "# chip_struct['labels'] = np.concatenate(chip_struct['labels'], axis=0)"
   ]
  },
  {
   "cell_type": "code",
   "execution_count": null,
   "metadata": {},
   "outputs": [],
   "source": [
    "# print(chip_struct['chips'].shape)\n",
    "# print(chip_struct['labels'].shape)\n",
    "# print(chip_struct['classes'])"
   ]
  }
 ],
 "metadata": {
  "anaconda-cloud": {},
  "kernelspec": {
   "display_name": "Python 3",
   "language": "python",
   "name": "python3"
  },
  "language_info": {
   "codemirror_mode": {
    "name": "ipython",
    "version": 3
   },
   "file_extension": ".py",
   "mimetype": "text/x-python",
   "name": "python",
   "nbconvert_exporter": "python",
   "pygments_lexer": "ipython3",
   "version": "3.5.5"
  }
 },
 "nbformat": 4,
 "nbformat_minor": 2
}
