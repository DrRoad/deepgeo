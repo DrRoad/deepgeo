{
 "cells": [
  {
   "cell_type": "markdown",
   "metadata": {},
   "source": [
    "# Generate samples for a single scene"
   ]
  },
  {
   "cell_type": "code",
   "execution_count": 29,
   "metadata": {},
   "outputs": [],
   "source": [
    "import sys\n",
    "import os\n",
    "from importlib import reload\n",
    "import numpy as np\n",
    "\n",
    "sys.path.insert(0, '../src')\n",
    "import deepgeo.dataset.data_augment as dtaug\n",
    "import deepgeo.dataset.rasterizer as rstzr\n",
    "import deepgeo.dataset.preprocessor as prep\n",
    "import deepgeo.dataset.dataset_generator as ds_gen\n",
    "import deepgeo.common.visualization as vis\n",
    "import dataset.random_chips as rdmchips\n",
    "import dataset.sequential_chips as seqchips\n",
    "\n",
    "reload(dtaug)\n",
    "reload(rstzr)\n",
    "reload(prep)\n",
    "reload(ds_gen)\n",
    "\n",
    "%matplotlib inline"
   ]
  },
  {
   "cell_type": "code",
   "execution_count": 30,
   "metadata": {},
   "outputs": [],
   "source": [
    "# Input Files\n",
    "DATA_DIR = os.path.join(os.path.abspath(os.path.dirname(\"__file__\")), '../', 'data_real')\n",
    "shape_file = os.path.join(DATA_DIR, 'PRODES2016_225-64_REP.shp')\n",
    "raster_file = os.path.join(DATA_DIR, \"Landsat8_225064_17072016_R6G5B4_clip.tif\")\n",
    "# class_column = \"agregClass\"\n",
    "class_column = 'class_name'\n",
    "classes_of_interest = ['DESMATAMENTO']\n",
    "# class_column = \"bin_class\"\n",
    "non_class = 'not_deforestation'\n",
    "\n",
    "# Output Files\n",
    "output_path = os.path.join(DATA_DIR, 'generated')\n",
    "# fs.mkdir(output_path)\n",
    "output_shp = os.path.join(output_path, \"samples.shp\")\n",
    "output_npz = os.path.join(output_path, \"samples_dataset_bin.npz\")\n",
    "\n",
    "number_of_samples = 500\n",
    "window_size = 128"
   ]
  },
  {
   "cell_type": "markdown",
   "metadata": {},
   "source": [
    "## Rasterize the input shape file"
   ]
  },
  {
   "cell_type": "code",
   "execution_count": 31,
   "metadata": {
    "scrolled": false
   },
   "outputs": [],
   "source": [
    "rasterizer = rstzr.Rasterizer(shape_file,\n",
    "                              raster_file,\n",
    "                              class_column,\n",
    "                              classes_interest=classes_of_interest,\n",
    "                              non_class_name=non_class)\n",
    "rasterizer.collect_class_names()\n",
    "rasterizer.rasterize_layer()\n",
    "class_names = rasterizer.get_class_names()\n",
    "rasterized_layer = rasterizer.get_labeled_raster()"
   ]
  },
  {
   "cell_type": "code",
   "execution_count": 32,
   "metadata": {
    "scrolled": false
   },
   "outputs": [
    {
     "name": "stdout",
     "output_type": "stream",
     "text": [
      "Raster Shape: (6166, 6711, 1)\n",
      "unique:  [1 2 --]\n"
     ]
    },
    {
     "data": {
      "image/png": "[encoded data removed]",
      "text/plain": [
       "<Figure size 720x720 with 2 Axes>"
      ]
     },
     "metadata": {},
     "output_type": "display_data"
    }
   ],
   "source": [
    "print(\"Raster Shape:\", rasterized_layer.shape)\n",
    "print('unique: ', np.unique(rasterized_layer))\n",
    "vis.plot_labels(rasterized_layer, class_names)#, colors=[\"green\", \"red\"])"
   ]
  },
  {
   "cell_type": "code",
   "execution_count": null,
   "metadata": {},
   "outputs": [],
   "source": [
    "preproc = prep.Preprocessor(raster_file, no_data=-9999)\n",
    "preproc.set_nodata_value(-10)\n",
    "original_raster = preproc.get_raster_stacked_raster()\n",
    "print(\"SHAPE: \", original_raster.shape)\n",
    "# print(\"UNIQUE: \", np.unique(original_raster))\n",
    "\n",
    "vis.plot_image_histogram(original_raster, cmap=[\"green\", \"red\", \"cyan\", \"blue\", \"yellow\"],\n",
    "                         title=\"Original Raster\", legend=[\"Green\", \"Red\", \"NIR\", \"SWIR 1\", \"SWIR 2\"])\n",
    "vis.plot_rgb_img(original_raster, bands=[2,1,0], contrast=True)"
   ]
  },
  {
   "cell_type": "code",
   "execution_count": null,
   "metadata": {
    "scrolled": false
   },
   "outputs": [],
   "source": [
    "preproc.standardize_image()\n",
    "raster_img = preproc.get_raster_stacked_raster()\n",
    "# print(np.unique(raster_img))\n",
    "vis.plot_image_histogram(raster_img, cmap=[\"green\", \"red\", \"cyan\", \"blue\", \"yellow\"],\n",
    "                         title=\"Standardized Raster\", legend=[\"Green\", \"Red\", \"NIR\", \"SWIR 1\", \"SWIR 2\"])"
   ]
  },
  {
   "cell_type": "code",
   "execution_count": null,
   "metadata": {},
   "outputs": [],
   "source": [
    "# reload(seqchips)\n",
    "params = {'raster_array': raster_img,\n",
    "          'labels_array': rasterized_layer,\n",
    "          'win_size': 128} #,\n",
    "#           'perc_discard_nd': 0.8}\n",
    "\n",
    "chips_seq = seqchips.SequentialChipGenerator(params).generate_chips()"
   ]
  },
  {
   "cell_type": "code",
   "execution_count": null,
   "metadata": {},
   "outputs": [],
   "source": [
    "# reload(rdmchips)\n",
    "# params = {'raster_array': raster_img,\n",
    "#           'labels_array': rasterized_layer,\n",
    "#           'win_size': 128,\n",
    "#           'quantity': 1000}\n",
    "# chips_rdm = rdmchips.RandomChipGenerator(params).generate_chips()"
   ]
  },
  {
   "cell_type": "code",
   "execution_count": null,
   "metadata": {
    "scrolled": false
   },
   "outputs": [],
   "source": [
    "# chpGen = ds_gen.DatasetGenerator(raster_img, rasterized_layer, class_names)\n",
    "# chpGen.generate_chips()\n",
    "# samples = chpGen.get_samples()\n",
    "# print(\"Generated \", len(samples[\"images\"]), \" image samples.\")\n",
    "# print(\"Generated \", len(samples[\"labels\"]), \" label samples.\")\n",
    "# chpGen.save_samples_SHP(output_shp)\n",
    "# chpGen.save_samples_NPZ(output_npz)"
   ]
  },
  {
   "cell_type": "code",
   "execution_count": null,
   "metadata": {
    "scrolled": false
   },
   "outputs": [],
   "source": [
    "reload(vis)\n",
    "vis.plot_chips(chips_seq, raster_img, bands=[2, 1, 0], contrast=False)"
   ]
  },
  {
   "cell_type": "code",
   "execution_count": null,
   "metadata": {},
   "outputs": [],
   "source": [
    "# vis.plot_vector_file(output_shp)"
   ]
  }
 ],
 "metadata": {
  "anaconda-cloud": {},
  "kernelspec": {
   "display_name": "Python 3",
   "language": "python",
   "name": "python3"
  },
  "language_info": {
   "codemirror_mode": {
    "name": "ipython",
    "version": 3
   },
   "file_extension": ".py",
   "mimetype": "text/x-python",
   "name": "python",
   "nbconvert_exporter": "python",
   "pygments_lexer": "ipython3",
   "version": "3.5.5"
  }
 },
 "nbformat": 4,
 "nbformat_minor": 2
}
