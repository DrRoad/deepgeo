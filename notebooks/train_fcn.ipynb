{
 "cells": [
  {
   "cell_type": "code",
   "execution_count": 1,
   "metadata": {},
   "outputs": [
    {
     "name": "stderr",
     "output_type": "stream",
     "text": [
      "/home/raian/anaconda3/envs/tensorflow/lib/python3.5/site-packages/h5py/__init__.py:36: FutureWarning: Conversion of the second argument of issubdtype from `float` to `np.floating` is deprecated. In future, it will be treated as `np.float64 == np.dtype(float).type`.\n",
      "  from ._conv import register_converters as _register_converters\n"
     ]
    },
    {
     "data": {
      "text/plain": [
       "<module 'deepleeo.utils.geofunctions' from '../src/deepleeo/utils/geofunctions.py'>"
      ]
     },
     "execution_count": 1,
     "metadata": {},
     "output_type": "execute_result"
    }
   ],
   "source": [
    "import tensorflow as tf\n",
    "import numpy as np\n",
    "import os\n",
    "import sys\n",
    "import skimage\n",
    "import pylab as plt\n",
    "from importlib import reload\n",
    "from datetime import datetime\n",
    "\n",
    "sys.path.insert(0, '../src')\n",
    "import deepleeo.dataset.data_augment as dtaug\n",
    "import deepleeo.dataset.utils as dsutils\n",
    "import deepleeo.utils.geofunctions as gf\n",
    "from deepleeo.networks import fcn\n",
    "\n",
    "reload(dtaug)\n",
    "reload(dsutils)\n",
    "reload(fcn)\n",
    "reload(gf)"
   ]
  },
  {
   "cell_type": "markdown",
   "metadata": {},
   "source": [
    "# Load input Dataset"
   ]
  },
  {
   "cell_type": "code",
   "execution_count": 2,
   "metadata": {},
   "outputs": [],
   "source": [
    "DATA_DIR = os.path.join(os.path.abspath(os.path.dirname(\"__file__\")), '../', 'data_real', 'generated')\n",
    "DATASET_FILE = os.path.join(DATA_DIR, 'samples_dataset.npz')\n",
    "model_dir = os.path.join(DATA_DIR, 'tf_logs', \"test_%s\" % datetime.now().strftime('%d_%m_%Y-%H_%M_%S'))"
   ]
  },
  {
   "cell_type": "code",
   "execution_count": 3,
   "metadata": {},
   "outputs": [],
   "source": [
    "raster_path = os.path.join(DATA_DIR, \"..\", \"Landsat8_225-64_17-07-2016-R6G5B4.tif\")"
   ]
  },
  {
   "cell_type": "code",
   "execution_count": 4,
   "metadata": {},
   "outputs": [
    {
     "name": "stdout",
     "output_type": "stream",
     "text": [
      "Data Loaded:\n",
      "  -> Images:  5000\n",
      "  -> Labels:  5000\n",
      "  -> Classes:  4\n",
      "Images shape:  (128, 128, 3)\n",
      "Labels shape:  (128, 128, 1)\n"
     ]
    }
   ],
   "source": [
    "dataset = np.load(DATASET_FILE)\n",
    "\n",
    "print(\"Data Loaded:\")\n",
    "print(\"  -> Images: \", len(dataset[\"images\"]))\n",
    "print(\"  -> Labels: \", len(dataset[\"labels\"]))\n",
    "print(\"  -> Classes: \", len(dataset[\"classes\"]))\n",
    "\n",
    "print(\"Images shape: \", dataset[\"images\"][0].shape)\n",
    "print(\"Labels shape: \", dataset[\"labels\"][0].shape)"
   ]
  },
  {
   "cell_type": "code",
   "execution_count": 5,
   "metadata": {},
   "outputs": [],
   "source": [
    "#plt.figure(figsize=(4,4))\n",
    "#img_plt = skimage.img_as_float(dataset[\"images\"][0])\n",
    "#img_plt = dataset[\"images\"][0]\n",
    "#plt.imshow(img_plt)\n",
    "#plt.axis('off')"
   ]
  },
  {
   "cell_type": "markdown",
   "metadata": {},
   "source": [
    "# Perform Data Augmentation"
   ]
  },
  {
   "cell_type": "code",
   "execution_count": 6,
   "metadata": {},
   "outputs": [
    {
     "name": "stdout",
     "output_type": "stream",
     "text": [
      "Data Augmentation Applied:\n",
      "  -> Images:  (35000, 128, 128, 3)\n",
      "  -> Labels:  (35000, 128, 128, 1)\n"
     ]
    }
   ],
   "source": [
    "angles = [90, 180, 270]\n",
    "rotated_imgs = dtaug.rotate_images(dataset[\"images\"], angles)\n",
    "flipped_imgs = dtaug.flip_images(dataset[\"images\"])\n",
    "\n",
    "new_dataset = {}\n",
    "new_dataset[\"images\"] = np.concatenate((dataset[\"images\"], rotated_imgs))\n",
    "new_dataset[\"images\"] = np.concatenate((new_dataset[\"images\"], flipped_imgs))\n",
    "\n",
    "rotated_lbls = dtaug.rotate_images(dataset[\"labels\"], angles)\n",
    "flipped_lbls = dtaug.flip_images(dataset[\"labels\"])\n",
    "\n",
    "new_dataset[\"labels\"] = np.concatenate((dataset[\"labels\"], rotated_lbls))\n",
    "new_dataset[\"labels\"] = np.concatenate((new_dataset[\"labels\"], flipped_lbls))\n",
    "\n",
    "new_dataset[\"classes\"] = dataset[\"classes\"]\n",
    "\n",
    "print(\"Data Augmentation Applied:\")\n",
    "print(\"  -> Images: \", new_dataset[\"images\"].shape)\n",
    "print(\"  -> Labels: \", new_dataset[\"labels\"].shape)"
   ]
  },
  {
   "cell_type": "markdown",
   "metadata": {},
   "source": [
    "# Split dataset between train, test and validation data"
   ]
  },
  {
   "cell_type": "code",
   "execution_count": 7,
   "metadata": {},
   "outputs": [
    {
     "name": "stdout",
     "output_type": "stream",
     "text": [
      "Splitted dataset:\n",
      "  -> Train images:  (24500, 128, 128, 3)\n",
      "  -> Test images:  (10500, 128, 128, 3)\n",
      "  -> Validation images:  (0, 128, 128, 3)\n",
      "  -> Train Labels:  (24500, 128, 128, 1)\n",
      "  -> Test Labels:  (10500, 128, 128, 1)\n",
      "  -> Validation Labels:  (0, 128, 128, 1)\n"
     ]
    }
   ],
   "source": [
    "train_images, test_images, valid_images, train_labels, test_labels, valid_labels = dsutils.split_dataset(new_dataset)\n",
    "\n",
    "print(\"Splitted dataset:\")\n",
    "print(\"  -> Train images: \", train_images.shape)\n",
    "print(\"  -> Test images: \", test_images.shape)\n",
    "print(\"  -> Validation images: \", valid_images.shape)\n",
    "print(\"  -> Train Labels: \", train_labels.shape)\n",
    "print(\"  -> Test Labels: \", test_labels.shape)\n",
    "print(\"  -> Validation Labels: \", valid_labels.shape)"
   ]
  },
  {
   "cell_type": "markdown",
   "metadata": {},
   "source": [
    "# Train the Network"
   ]
  },
  {
   "cell_type": "code",
   "execution_count": 8,
   "metadata": {},
   "outputs": [],
   "source": [
    "params = {\n",
    "    \"epochs\": 300,\n",
    "    \"batch_size\": 400,\n",
    "    \"learning_rate\": 0.01,\n",
    "    \"class_names\": new_dataset[\"classes\"]\n",
    "}"
   ]
  },
  {
   "cell_type": "code",
   "execution_count": null,
   "metadata": {},
   "outputs": [
    {
     "name": "stdout",
     "output_type": "stream",
     "text": [
      "INFO:tensorflow:Replicating the `model_fn` across ['/device:GPU:0', '/device:GPU:1', '/device:GPU:2', '/device:GPU:3'].  Variables are going to be placed on ['/CPU:0'].  Consolidation device is going to be /CPU:0.\n",
      "INFO:tensorflow:Using default config.\n",
      "INFO:tensorflow:Using config: {'_global_id_in_cluster': 0, '_service': None, '_model_dir': '/home/raian/doutorado/DeepLeEO/notebooks/../data_real/generated/tf_logs/test_22_08_2018_19_47_03', '_device_fn': None, '_save_summary_steps': 100, '_session_config': None, '_keep_checkpoint_every_n_hours': 10000, '_save_checkpoints_steps': None, '_task_id': 0, '_tf_random_seed': None, '_cluster_spec': <tensorflow.python.training.server_lib.ClusterSpec object at 0x7f55400f9908>, '_num_ps_replicas': 0, '_master': '', '_save_checkpoints_secs': 600, '_task_type': 'worker', '_train_distribute': None, '_log_step_count_steps': 100, '_evaluation_master': '', '_keep_checkpoint_max': 5, '_num_worker_replicas': 1, '_is_chief': True}\n",
      "===============================================\n",
      "Epoch  1\n",
      "---------------\n",
      "Training...\n",
      "INFO:tensorflow:Calling model_fn.\n",
      "INFO:tensorflow:Done calling model_fn.\n",
      "INFO:tensorflow:Create CheckpointSaverHook.\n",
      "INFO:tensorflow:Graph was finalized.\n",
      "INFO:tensorflow:Restoring parameters from /home/raian/doutorado/DeepLeEO/notebooks/../data_real/generated/tf_logs/test_22_08_2018_19_47_03/model.ckpt-682\n",
      "INFO:tensorflow:Running local_init_op.\n",
      "INFO:tensorflow:Done running local_init_op.\n",
      "INFO:tensorflow:Saving checkpoints for 682 into /home/raian/doutorado/DeepLeEO/notebooks/../data_real/generated/tf_logs/test_22_08_2018_19_47_03/model.ckpt.\n",
      "INFO:tensorflow:\n",
      "INFO:tensorflow:loss = 0.9906328, step = 682\n",
      "INFO:tensorflow: (14.636 sec)\n",
      "INFO:tensorflow: (12.516 sec)\n",
      "INFO:tensorflow:Saving checkpoints for 744 into /home/raian/doutorado/DeepLeEO/notebooks/../data_real/generated/tf_logs/test_22_08_2018_19_47_03/model.ckpt.\n",
      "INFO:tensorflow:Loss for final step: 0.9695244.\n",
      "---------------\n",
      "Evaluating...\n",
      "INFO:tensorflow:Calling model_fn.\n",
      "INFO:tensorflow:Done calling model_fn.\n",
      "INFO:tensorflow:Starting evaluation at 2018-08-22-23:21:49\n",
      "INFO:tensorflow:Graph was finalized.\n",
      "INFO:tensorflow:Restoring parameters from /home/raian/doutorado/DeepLeEO/notebooks/../data_real/generated/tf_logs/test_22_08_2018_19_47_03/model.ckpt-744\n",
      "INFO:tensorflow:Running local_init_op.\n",
      "INFO:tensorflow:Done running local_init_op.\n",
      "INFO:tensorflow:Finished evaluation at 2018-08-22-23:21:57\n",
      "INFO:tensorflow:Saving dict for global step 744: global_step = 744, loss = 0.9676004\n",
      "INFO:tensorflow:Saving 'checkpoint_path' summary for global step 744: /home/raian/doutorado/DeepLeEO/notebooks/../data_real/generated/tf_logs/test_22_08_2018_19_47_03/model.ckpt-744\n",
      "===============================================\n",
      "Epoch  2\n",
      "---------------\n",
      "Training...\n",
      "INFO:tensorflow:Calling model_fn.\n",
      "INFO:tensorflow:Done calling model_fn.\n",
      "INFO:tensorflow:Create CheckpointSaverHook.\n",
      "INFO:tensorflow:Graph was finalized.\n",
      "INFO:tensorflow:Restoring parameters from /home/raian/doutorado/DeepLeEO/notebooks/../data_real/generated/tf_logs/test_22_08_2018_19_47_03/model.ckpt-744\n",
      "INFO:tensorflow:Running local_init_op.\n",
      "INFO:tensorflow:Done running local_init_op.\n",
      "INFO:tensorflow:Saving checkpoints for 744 into /home/raian/doutorado/DeepLeEO/notebooks/../data_real/generated/tf_logs/test_22_08_2018_19_47_03/model.ckpt.\n",
      "INFO:tensorflow:\n",
      "INFO:tensorflow:loss = 0.9649047, step = 744\n"
     ]
    }
   ],
   "source": [
    "reload(fcn)\n",
    "\n",
    "fcn.fcn_train(train_images, test_images, train_labels, test_labels, params, model_dir)"
   ]
  },
  {
   "cell_type": "code",
   "execution_count": 10,
   "metadata": {},
   "outputs": [
    {
     "name": "stdout",
     "output_type": "stream",
     "text": [
      "3660\n"
     ]
    }
   ],
   "source": [
    "def generate_sequential_chips(img_array, chip_size=128):\n",
    "    x_size, y_size, nbands = img_array.shape\n",
    "    \n",
    "    chips = []\n",
    "    for y_start in range(0, y_size, chip_size):\n",
    "        y_end = y_start + chip_size\n",
    "        \n",
    "        if y_end > y_start:\n",
    "            y_end = y_size\n",
    "            y_start = y_end - chip_size\n",
    "        \n",
    "        for x_start in range(0, x_size, chip_size):\n",
    "            x_end = x_start + chip_size\n",
    "            \n",
    "            if x_end > x_size:\n",
    "                x_end = x_size\n",
    "                x_start = x_end - chip_size\n",
    "                \n",
    "            chip_array = img_array[x_start:x_end, y_start:y_end, :]\n",
    "            \n",
    "            chips.append(chip_array)\n",
    "        \n",
    "    return chips\n",
    "\n",
    "reload(gf)\n",
    "raster_array = gf.load_image(raster_path, 0)\n",
    "chips = generate_sequential_chips(raster_array)\n",
    "\n",
    "print(len(chips))"
   ]
  },
  {
   "cell_type": "code",
   "execution_count": 13,
   "metadata": {},
   "outputs": [
    {
     "name": "stdout",
     "output_type": "stream",
     "text": [
      "Classifying image with structure  (3660, 128, 128, 3) ...\n"
     ]
    }
   ],
   "source": [
    "reload(fcn)\n",
    "\n",
    "trained_model = \"/home/raian/doutorado/DeepLeEO/data_real/generated/tf_logs/test_22_08_2018-20_24_36\"\n",
    "\n",
    "predictions = fcn.fcn_predict(chips, params=params, model_dir=trained_model)\n"
   ]
  }
 ],
 "metadata": {
  "kernelspec": {
   "display_name": "Python 3",
   "language": "python",
   "name": "python3"
  },
  "language_info": {
   "codemirror_mode": {
    "name": "ipython",
    "version": 3
   },
   "file_extension": ".py",
   "mimetype": "text/x-python",
   "name": "python",
   "nbconvert_exporter": "python",
   "pygments_lexer": "ipython3",
   "version": "3.5.4"
  }
 },
 "nbformat": 4,
 "nbformat_minor": 2
}
