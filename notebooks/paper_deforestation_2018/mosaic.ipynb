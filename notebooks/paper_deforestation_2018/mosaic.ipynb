{
 "cells": [
  {
   "cell_type": "code",
   "execution_count": 7,
   "metadata": {},
   "outputs": [
    {
     "data": {
      "text/plain": [
       "<module 'deepleeo.utils.visualization' from '../src/deepleeo/utils/visualization.py'>"
      ]
     },
     "execution_count": 7,
     "metadata": {},
     "output_type": "execute_result"
    }
   ],
   "source": [
    "import sys\n",
    "import os\n",
    "from importlib import reload\n",
    "import pylab as plt\n",
    "import skimage\n",
    "import numpy as np\n",
    "from skimage import exposure\n",
    "\n",
    "sys.path.insert(0, '../src')\n",
    "import deepleeo.dataset.image_utils as iutils\n",
    "import deepleeo.utils.geofunctions as gf\n",
    "import deepleeo.utils.visualization as vis\n",
    "\n",
    "reload(iutils)\n",
    "reload(gf)\n",
    "reload(vis)"
   ]
  },
  {
   "cell_type": "code",
   "execution_count": 8,
   "metadata": {},
   "outputs": [],
   "source": [
    "DATA_DIR = \"/home/raian/doutorado/Dados/generated\"\n",
    "\n",
    "shp_ref = os.path.join(DATA_DIR, \"Prodes_mosaic.shp\")\n",
    "\n",
    "input_files = {\"2013\": [os.path.join(DATA_DIR, \"LC08_L1TP_224063_03082013.tif\"),\n",
    "                        os.path.join(DATA_DIR, \"LC08_L1TP_225064_26082013.tif\"),\n",
    "                        os.path.join(DATA_DIR, \"LC08_L1TP_225063_10082013.tif\"),\n",
    "                        os.path.join(DATA_DIR, \"LC08_L1TP_224064_03082013.tif\")],\n",
    "               \"2014\": [os.path.join(DATA_DIR, \"LC08_L1TP_224063_05072014.tif\"),\n",
    "                        os.path.join(DATA_DIR, \"LC08_L1TP_224064_05072014.tif\"),\n",
    "                        os.path.join(DATA_DIR, \"LC08_L1TP_225063_28072014.tif\"),\n",
    "                        os.path.join(DATA_DIR, \"LC08_L1TP_225064_13082014.tif\")],\n",
    "               \"2015\": [os.path.join(DATA_DIR, \"LC08_L1TP_224063_10092015.tif\"),\n",
    "                        os.path.join(DATA_DIR, \"LC08_L1TP_224064_24072015.tif\"),\n",
    "                        os.path.join(DATA_DIR, \"LC08_L1TP_225063_15072015.tif\"),\n",
    "                        os.path.join(DATA_DIR, \"LC08_L1TP_225064_16082015.tif\")],\n",
    "               \"2016\": [os.path.join(DATA_DIR, \"LC08_L1TP_225064_17072016.tif\"),\n",
    "                        os.path.join(DATA_DIR, \"LC08_L1TP_224064_26072016.tif\"),\n",
    "                        os.path.join(DATA_DIR, \"LC08_L1TP_225063_17072016.tif\"),\n",
    "                        os.path.join(DATA_DIR, \"LC08_L1TP_224063_20072016.tif\")],\n",
    "               \"2017\": [os.path.join(DATA_DIR, \"LC08_L1TP_225064_20072017.tif\"),\n",
    "                        os.path.join(DATA_DIR, \"LC08_L1TP_224064_29072017.tif\"),\n",
    "                        os.path.join(DATA_DIR, \"LC08_L1TP_225063_20072017.tif\"),\n",
    "                        os.path.join(DATA_DIR, \"LC08_L1TP_224063_29072017.tif\")]}\n",
    "\n",
    "band_names = [\"Green\", \"Red\", \"NIR\", \"SWIR_1\", \"SWIR_2\"]\n",
    "\n",
    "output_files = {\"2013\": os.path.join(DATA_DIR, \"mosaic_2013.tif\"),\n",
    "                \"2014\": os.path.join(DATA_DIR, \"mosaic_2014.tif\"),\n",
    "                \"2015\": os.path.join(DATA_DIR, \"mosaic_2015.tif\"),\n",
    "                \"2016\": os.path.join(DATA_DIR, \"mosaic_2016.tif\"),\n",
    "                \"2017\": os.path.join(DATA_DIR, \"mosaic_2017.tif\")}\n",
    "\n",
    "temp_file = os.path.join(DATA_DIR, \"mosaic_.tif\")"
   ]
  },
  {
   "cell_type": "code",
   "execution_count": 9,
   "metadata": {
    "scrolled": false
   },
   "outputs": [
    {
     "name": "stdout",
     "output_type": "stream",
     "text": [
      "Mosaicing images:\n",
      " > /home/raian/doutorado/Dados/generated/LC08_L1TP_224063_03082013.tif\n",
      " > /home/raian/doutorado/Dados/generated/LC08_L1TP_225064_26082013.tif\n",
      " > /home/raian/doutorado/Dados/generated/LC08_L1TP_225063_10082013.tif\n",
      " > /home/raian/doutorado/Dados/generated/LC08_L1TP_224064_03082013.tif\n",
      "\n",
      "Processing file     1 of     4,  0.000% completed in 0 minutes.\n",
      "Filename: /home/raian/doutorado/Dados/generated/LC08_L1TP_224063_03082013.tif\n",
      "File Size: 7646x7803x5\n",
      "Pixel Size: 0.000269 x -0.000269\n",
      "UL:(-51.077763,-3.290176)   LR:(-49.017166,-5.393085)\n",
      "Copy 0,0,7646,7803 to 6941,0,7646,7803.\n",
      "Copy 0,0,7646,7803 to 6941,0,7646,7803.\n",
      "Copy 0,0,7646,7803 to 6941,0,7646,7803.\n",
      "Copy 0,0,7646,7803 to 6941,0,7646,7803.\n",
      "Copy 0,0,7646,7803 to 6941,0,7646,7803.\n",
      "\n",
      "Processing file     2 of     4, 25.000% completed in 0 minutes.\n",
      "Filename: /home/raian/doutorado/Dados/generated/LC08_L1TP_225064_26082013.tif\n",
      "File Size: 7646x7805x5\n",
      "Pixel Size: 0.000269 x -0.000269\n",
      "UL:(-52.948375,-4.736014)   LR:(-50.887778,-6.839461)\n",
      "Copy 0,0,7646,7805 to 0,5364,7646,7806.\n",
      "Copy 0,0,7646,7805 to 0,5364,7646,7806.\n",
      "Copy 0,0,7646,7805 to 0,5364,7646,7806.\n",
      "Copy 0,0,7646,7805 to 0,5364,7646,7806.\n",
      "Copy 0,0,7646,7805 to 0,5364,7646,7806.\n",
      "\n",
      "Processing file     3 of     4, 50.000% completed in 0 minutes.\n",
      "Filename: /home/raian/doutorado/Dados/generated/LC08_L1TP_225063_10082013.tif\n",
      "File Size: 7627x7801x5\n",
      "Pixel Size: 0.000269 x -0.000269\n",
      "UL:(-52.621064,-3.290829)   LR:(-50.565588,-5.393199)\n",
      "Copy 0,0,7627,7801 to 1214,2,7628,7801.\n",
      "Copy 0,0,7627,7801 to 1214,2,7628,7801.\n",
      "Copy 0,0,7627,7801 to 1214,2,7628,7801.\n",
      "Copy 0,0,7627,7801 to 1214,2,7628,7801.\n",
      "Copy 0,0,7627,7801 to 1214,2,7628,7801.\n",
      "\n",
      "Processing file     4 of     4, 75.000% completed in 0 minutes.\n",
      "Filename: /home/raian/doutorado/Dados/generated/LC08_L1TP_224064_03082013.tif\n",
      "File Size: 7657x7803x5\n",
      "Pixel Size: 0.000269 x -0.000269\n",
      "UL:(-51.387504,-4.736722)   LR:(-49.323943,-6.839631)\n",
      "Copy 0,0,7657,7803 to 5791,5367,7658,7804.\n",
      "Copy 0,0,7657,7803 to 5791,5367,7658,7804.\n",
      "Copy 0,0,7657,7803 to 5791,5367,7658,7804.\n",
      "Copy 0,0,7657,7803 to 5791,5367,7658,7804.\n",
      "Copy 0,0,7657,7803 to 5791,5367,7658,7804.\n",
      "Setting Metadata...\n"
     ]
    }
   ],
   "source": [
    "iutils.mosaic_images(input_files[\"2013\"], temp_file, band_names)\n",
    "iutils.clip_img_by_extent(temp_file, shp_ref, output_files[\"2013\"])"
   ]
  },
  {
   "cell_type": "code",
   "execution_count": null,
   "metadata": {},
   "outputs": [],
   "source": [
    "raster_img = gf.load_image(output_files[\"2013\"], no_data=-9999)\n",
    "vis.plot_rgb_img(raster_img, bands=[3,2,1], contrast=True)\n",
    "\n",
    "print(\"Shape: \", raster_img.shape)\n",
    "\n",
    "import gdal\n",
    "ds = gdal.Open(output_files[\"2013\"])\n",
    "for band in range(1, ds.RasterCount + 1):\n",
    "    print(ds.GetRasterBand(band).GetDescription())\n",
    "    print(ds.GetRasterBand(band).GetNoDataValue())\n",
    "    print(ds.GetRasterBand(band).GetMetadata())\n",
    "ds = None"
   ]
  },
  {
   "cell_type": "code",
   "execution_count": null,
   "metadata": {
    "scrolled": false
   },
   "outputs": [],
   "source": [
    "iutils.mosaic_images(input_files[\"2014\"], temp_file, band_names)\n",
    "iutils.clip_img_by_extent(temp_file, shp_ref, output_files[\"2014\"])"
   ]
  },
  {
   "cell_type": "code",
   "execution_count": null,
   "metadata": {},
   "outputs": [],
   "source": [
    "raster_img = gf.load_image(output_files[\"2014\"], no_data=-9999)\n",
    "vis.plot_rgb_img(raster_img, bands=[3,2,1], contrast=True)\n",
    "\n",
    "print(\"Shape: \", raster_img.shape)\n",
    "\n",
    "import gdal\n",
    "ds = gdal.Open(output_files[\"2014\"])\n",
    "for band in range(1, ds.RasterCount + 1):\n",
    "    print(ds.GetRasterBand(band).GetDescription())\n",
    "    print(ds.GetRasterBand(band).GetNoDataValue())\n",
    "    print(ds.GetRasterBand(band).GetMetadata())\n",
    "ds = None"
   ]
  },
  {
   "cell_type": "code",
   "execution_count": null,
   "metadata": {
    "scrolled": false
   },
   "outputs": [],
   "source": [
    "iutils.mosaic_images(input_files[\"2015\"], temp_file, band_names)\n",
    "iutils.clip_img_by_extent(temp_file, shp_ref, output_files[\"2015\"])"
   ]
  },
  {
   "cell_type": "code",
   "execution_count": null,
   "metadata": {},
   "outputs": [],
   "source": [
    "raster_img = gf.load_image(output_files[\"2015\"], no_data=-9999)\n",
    "vis.plot_rgb_img(raster_img, bands=[3,2,1], contrast=True)\n",
    "\n",
    "print(\"Shape: \", raster_img.shape)\n",
    "\n",
    "import gdal\n",
    "ds = gdal.Open(output_files[\"2015\"])\n",
    "for band in range(1, ds.RasterCount + 1):\n",
    "    print(ds.GetRasterBand(band).GetDescription())\n",
    "    print(ds.GetRasterBand(band).GetNoDataValue())\n",
    "    print(ds.GetRasterBand(band).GetMetadata())\n",
    "ds = None"
   ]
  },
  {
   "cell_type": "code",
   "execution_count": null,
   "metadata": {},
   "outputs": [],
   "source": [
    "iutils.mosaic_images(input_files[\"2016\"], temp_file, band_names)\n",
    "iutils.clip_img_by_extent(temp_file, shp_ref, output_files[\"2016\"])"
   ]
  },
  {
   "cell_type": "code",
   "execution_count": null,
   "metadata": {},
   "outputs": [],
   "source": [
    "raster_img = gf.load_image(output_files[\"2016\"], no_data=-9999)\n",
    "vis.plot_rgb_img(raster_img, bands=[3,2,1], contrast=True)\n",
    "print(\"Shape: \", raster_img.shape)"
   ]
  },
  {
   "cell_type": "code",
   "execution_count": null,
   "metadata": {},
   "outputs": [],
   "source": [
    "iutils.mosaic_images(input_files[\"2017\"], temp_file, band_names)\n",
    "iutils.clip_img_by_extent(temp_file, shp_ref, output_files[\"2017\"])"
   ]
  },
  {
   "cell_type": "code",
   "execution_count": null,
   "metadata": {},
   "outputs": [],
   "source": [
    "raster_img = gf.load_image(output_files[\"2017\"], no_data=-9999)\n",
    "vis.plot_rgb_img(raster_img, bands=[3,2,1], contrast=True)\n",
    "print(\"Shape: \", raster_img.shape)"
   ]
  },
  {
   "cell_type": "code",
   "execution_count": null,
   "metadata": {},
   "outputs": [],
   "source": [
    "os.remove(temp_file)"
   ]
  },
  {
   "cell_type": "code",
   "execution_count": null,
   "metadata": {},
   "outputs": [],
   "source": []
  }
 ],
 "metadata": {
  "kernelspec": {
   "display_name": "Python 3",
   "language": "python",
   "name": "python3"
  },
  "language_info": {
   "codemirror_mode": {
    "name": "ipython",
    "version": 3
   },
   "file_extension": ".py",
   "mimetype": "text/x-python",
   "name": "python",
   "nbconvert_exporter": "python",
   "pygments_lexer": "ipython3",
   "version": "3.5.5"
  }
 },
 "nbformat": 4,
 "nbformat_minor": 2
}
