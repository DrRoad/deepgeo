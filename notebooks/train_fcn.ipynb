{
 "cells": [
  {
   "cell_type": "code",
   "execution_count": 1,
   "metadata": {},
   "outputs": [
    {
     "name": "stderr",
     "output_type": "stream",
     "text": [
      "/home/raian/anaconda3/envs/tensorflow/lib/python3.5/site-packages/h5py/__init__.py:36: FutureWarning: Conversion of the second argument of issubdtype from `float` to `np.floating` is deprecated. In future, it will be treated as `np.float64 == np.dtype(float).type`.\n",
      "  from ._conv import register_converters as _register_converters\n"
     ]
    },
    {
     "data": {
      "text/plain": [
       "<module 'deepleeo.utils.geofunctions' from '../src/deepleeo/utils/geofunctions.py'>"
      ]
     },
     "execution_count": 1,
     "metadata": {},
     "output_type": "execute_result"
    }
   ],
   "source": [
    "import tensorflow as tf\n",
    "import numpy as np\n",
    "import os\n",
    "import sys\n",
    "from importlib import reload\n",
    "from datetime import datetime\n",
    "\n",
    "sys.path.insert(0, '../src')\n",
    "import deepleeo.dataset.data_augment as dtaug\n",
    "import deepleeo.dataset.utils as dsutils \n",
    "import deepleeo.utils.geofunctions as gf\n",
    "import deepleeo.networks.model_builder as mb\n",
    "\n",
    "reload(dtaug)\n",
    "reload(dsutils)\n",
    "reload(mb)\n",
    "reload(gf)"
   ]
  },
  {
   "cell_type": "markdown",
   "metadata": {},
   "source": [
    "# Load input Dataset"
   ]
  },
  {
   "cell_type": "code",
   "execution_count": 2,
   "metadata": {},
   "outputs": [],
   "source": [
    "# DATA_DIR = os.path.join(os.path.abspath(os.path.dirname(\"__file__\")), '../', 'data_real', 'generated')\n",
    "network = \"unet\"\n",
    "DATA_DIR = \"/home/raian/doutorado/Dados/generated\"\n",
    "DATASET_FILE = os.path.join(DATA_DIR, 'dataset_286x286_timesstack-2015-2016.npz')#'dataset_1.npz')\n",
    "\n",
    "# model_dir = os.path.join(DATA_DIR, 'tf_logs', \"test_%s_%s\" % (network, datetime.now().strftime('%d_%m_%Y-%H_%M_%S')))\n",
    "model_dir = \"/home/raian/doutorado/Dados/generated/tf_logs/test_debug\"\n",
    "# model_dir = os.path.join(DATA_DIR, 'tf_logs', 'test_fcn8s_11_12_2018-17_26_32')"
   ]
  },
  {
   "cell_type": "code",
   "execution_count": 3,
   "metadata": {},
   "outputs": [
    {
     "name": "stdout",
     "output_type": "stream",
     "text": [
      "total 8\r\n",
      "drwxr-xr-x  2 raian digits 4096 Mar 29 19:06 .\r\n",
      "drwxr-xr-x 15 raian digits 4096 Feb 22 22:26 ..\r\n"
     ]
    }
   ],
   "source": [
    "!rm -rf {model_dir}/*\n",
    "!ls -al {model_dir}"
   ]
  },
  {
   "cell_type": "code",
   "execution_count": 4,
   "metadata": {},
   "outputs": [
    {
     "name": "stdout",
     "output_type": "stream",
     "text": [
      "Data Loaded:\n",
      "  -> Images:  5000\n",
      "  -> Labels:  5000\n",
      "  -> Classes:  2\n",
      "Images shape:  (286, 286, 10)  - DType:  float32\n",
      "Labels shape:  (286, 286, 1)  - DType:  int32\n"
     ]
    }
   ],
   "source": [
    "dataset = np.load(DATASET_FILE)\n",
    "\n",
    "print(\"Data Loaded:\")\n",
    "print(\"  -> Images: \", len(dataset[\"images\"]))\n",
    "print(\"  -> Labels: \", len(dataset[\"labels\"]))\n",
    "print(\"  -> Classes: \", len(dataset[\"classes\"]))\n",
    "\n",
    "print(\"Images shape: \", dataset[\"images\"][0].shape, \" - DType: \", dataset[\"images\"][0].dtype)\n",
    "print(\"Labels shape: \", dataset[\"labels\"][0].shape, \" - DType: \", dataset[\"labels\"][0].dtype)\n",
    "# print(\"UNIQUE LABELS: \", np.unique(dataset[\"labels\"]))"
   ]
  },
  {
   "cell_type": "markdown",
   "metadata": {},
   "source": [
    "# Perform Data Augmentation"
   ]
  },
  {
   "cell_type": "code",
   "execution_count": 5,
   "metadata": {},
   "outputs": [],
   "source": [
    "# reload(dtaug)\n",
    "# new_dataset = {}\n",
    "# new_dataset[\"images\"] = dataset[\"images\"]\n",
    "# new_dataset[\"labels\"] = dataset[\"labels\"]\n",
    "\n",
    "# steps = 1000\n",
    "# num_chips = len(dataset[\"images\"])\n",
    "# for i in range(0, num_chips, steps):\n",
    "#     endstep = i + steps\n",
    "#     if endstep > num_chips:\n",
    "#         endstep = num_chips - 1\n",
    "    \n",
    "#     angles = [90, 180, 270]\n",
    "#     rotated_imgs = dtaug.rotate_images(dataset[\"images\"][i:endstep], angles)\n",
    "#     flipped_imgs = dtaug.flip_images(dataset[\"images\"][i:endstep])\n",
    "\n",
    "#     new_dataset[\"images\"] = np.concatenate((new_dataset[\"images\"], rotated_imgs))\n",
    "#     new_dataset[\"images\"] = np.concatenate((new_dataset[\"images\"], flipped_imgs))\n",
    "\n",
    "#     rotated_lbls = dtaug.rotate_images(dataset[\"labels\"][i:endstep], angles)\n",
    "#     flipped_lbls = dtaug.flip_images(dataset[\"labels\"][i:endstep])\n",
    "\n",
    "#     new_dataset[\"labels\"] = np.concatenate((new_dataset[\"labels\"], rotated_lbls))\n",
    "#     new_dataset[\"labels\"] = np.concatenate((new_dataset[\"labels\"], flipped_lbls)).astype(dtype=np.int32)\n",
    "\n",
    "# new_dataset[\"classes\"] = dataset[\"classes\"]\n",
    "\n",
    "# print(\"Data Augmentation Applied:\")\n",
    "# print(\"  -> Images: \", new_dataset[\"images\"].shape)\n",
    "# print(\"  -> Labels: \", new_dataset[\"labels\"].shape)"
   ]
  },
  {
   "cell_type": "markdown",
   "metadata": {},
   "source": [
    "# Split dataset between train, test and validation data"
   ]
  },
  {
   "cell_type": "code",
   "execution_count": 6,
   "metadata": {
    "scrolled": true
   },
   "outputs": [
    {
     "name": "stdout",
     "output_type": "stream",
     "text": [
      "Splitted dataset:\n",
      "  -> Train images:  (3500, 286, 286, 10)\n",
      "  -> Test images:  (1500, 286, 286, 10)\n",
      "  -> Validation images:  (0, 286, 286, 10)\n",
      "  -> Train Labels:  (3500, 286, 286, 1)\n",
      "  -> Test Labels:  (1500, 286, 286, 1)\n",
      "  -> Validation Labels:  (0, 286, 286, 1)\n"
     ]
    }
   ],
   "source": [
    "train_images, test_images, valid_images, train_labels, test_labels, valid_labels = dsutils.split_dataset(dataset)\n",
    "\n",
    "print(\"Splitted dataset:\")\n",
    "print(\"  -> Train images: \", train_images.shape)\n",
    "print(\"  -> Test images: \", test_images.shape)\n",
    "print(\"  -> Validation images: \", valid_images.shape)\n",
    "print(\"  -> Train Labels: \", train_labels.shape)\n",
    "print(\"  -> Test Labels: \", test_labels.shape)\n",
    "print(\"  -> Validation Labels: \", valid_labels.shape)"
   ]
  },
  {
   "cell_type": "markdown",
   "metadata": {},
   "source": [
    "# Train the Network"
   ]
  },
  {
   "cell_type": "code",
   "execution_count": 7,
   "metadata": {},
   "outputs": [],
   "source": [
    "params = {\n",
    "    'epochs': 3,\n",
    "    'batch_size': 100,\n",
    "    'learning_rate': 0.001,\n",
    "    'l2_reg_rate': 0.5,\n",
    "    'var_scale_factor': 2.0,\n",
    "    'chips_tensorboard': 2,\n",
    "    'dropout_rate': 0.5,\n",
    "    'fusion': 'early',\n",
    "    'num_classes': len(dataset[\"classes\"]),\n",
    "    'bands_plot': [6,7,8]\n",
    "}"
   ]
  },
  {
   "cell_type": "code",
   "execution_count": 8,
   "metadata": {
    "scrolled": false
   },
   "outputs": [
    {
     "name": "stdout",
     "output_type": "stream",
     "text": [
      "\n",
      "WARNING: The TensorFlow contrib module will not be included in TensorFlow 2.0.\n",
      "For more information, please see:\n",
      "  * https://github.com/tensorflow/community/blob/master/rfcs/20180907-contrib-sunset.md\n",
      "  * https://github.com/tensorflow/addons\n",
      "If you depend on functionality not listed there, please file an issue.\n",
      "\n",
      "WARNING:tensorflow:From ../src/deepleeo/networks/model_builder.py:148: replicate_model_fn (from tensorflow_estimator.contrib.estimator.python.estimator.replicate_model_fn) is deprecated and will be removed after 2018-05-31.\n",
      "Instructions for updating:\n",
      "Please use `tf.contrib.distribute.MirroredStrategy` instead.\n",
      "INFO:tensorflow:Replicating the `model_fn` across ['/device:GPU:0', '/device:GPU:1', '/device:GPU:2', '/device:GPU:3'].  Variables are going to be placed on ['/CPU:0'].  Consolidation device is going to be /CPU:0.\n",
      "INFO:tensorflow:Using default config.\n",
      "INFO:tensorflow:Using config: {'_save_summary_steps': 100, '_tf_random_seed': None, '_is_chief': True, '_save_checkpoints_steps': None, '_log_step_count_steps': 100, '_device_fn': None, '_task_type': 'worker', '_evaluation_master': '', '_model_dir': '/home/raian/doutorado/Dados/generated/tf_logs/test_debug', '_save_checkpoints_secs': 600, '_master': '', '_task_id': 0, '_service': None, '_protocol': None, '_eval_distribute': None, '_num_ps_replicas': 0, '_global_id_in_cluster': 0, '_keep_checkpoint_max': 5, '_cluster_spec': <tensorflow.python.training.server_lib.ClusterSpec object at 0x7f1440a0f9e8>, '_experimental_distribute': None, '_keep_checkpoint_every_n_hours': 10000, '_num_worker_replicas': 1, '_train_distribute': None, '_session_config': allow_soft_placement: true\n",
      "graph_options {\n",
      "  rewrite_options {\n",
      "    meta_optimizer_iterations: ONE\n",
      "  }\n",
      "}\n",
      "}\n",
      "===============================================\n",
      "Epoch  1\n",
      "---------------\n",
      "Training...\n",
      "WARNING:tensorflow:From /home/raian/anaconda3/envs/tensorflow/lib/python3.5/site-packages/tensorflow/python/framework/op_def_library.py:263: colocate_with (from tensorflow.python.framework.ops) is deprecated and will be removed in a future version.\n",
      "Instructions for updating:\n",
      "Colocations handled automatically by placer.\n",
      "WARNING:tensorflow:From /home/raian/anaconda3/envs/tensorflow/lib/python3.5/site-packages/tensorflow_estimator/python/estimator/inputs/queues/feeding_queue_runner.py:62: QueueRunner.__init__ (from tensorflow.python.training.queue_runner_impl) is deprecated and will be removed in a future version.\n",
      "Instructions for updating:\n",
      "To construct input pipelines, use the `tf.data` module.\n",
      "WARNING:tensorflow:From /home/raian/anaconda3/envs/tensorflow/lib/python3.5/site-packages/tensorflow_estimator/python/estimator/inputs/queues/feeding_functions.py:500: add_queue_runner (from tensorflow.python.training.queue_runner_impl) is deprecated and will be removed in a future version.\n",
      "Instructions for updating:\n",
      "To construct input pipelines, use the `tf.data` module.\n",
      "INFO:tensorflow:Calling model_fn.\n",
      "WARNING:tensorflow:From ../src/deepleeo/networks/../networks/unet.py:19: conv2d (from tensorflow.python.layers.convolutional) is deprecated and will be removed in a future version.\n",
      "Instructions for updating:\n",
      "Use keras.layers.conv2d instead.\n",
      "WARNING:tensorflow:From ../src/deepleeo/networks/../networks/layers.py:18: batch_normalization (from tensorflow.python.layers.normalization) is deprecated and will be removed in a future version.\n",
      "Instructions for updating:\n",
      "Use keras.layers.batch_normalization instead.\n",
      "WARNING:tensorflow:From ../src/deepleeo/networks/../networks/layers.py:27: max_pooling2d (from tensorflow.python.layers.pooling) is deprecated and will be removed in a future version.\n",
      "Instructions for updating:\n",
      "Use keras.layers.max_pooling2d instead.\n",
      "WARNING:tensorflow:From ../src/deepleeo/networks/../networks/layers.py:44: conv2d_transpose (from tensorflow.python.layers.convolutional) is deprecated and will be removed in a future version.\n",
      "Instructions for updating:\n",
      "Use keras.layers.conv2d_transpose instead.\n",
      "WARNING:tensorflow:From ../src/deepleeo/networks/../networks/unet.py:116: dropout (from tensorflow.python.layers.core) is deprecated and will be removed in a future version.\n",
      "Instructions for updating:\n",
      "Use keras.layers.dropout instead.\n",
      "WARNING:tensorflow:From /home/raian/anaconda3/envs/tensorflow/lib/python3.5/site-packages/tensorflow/python/keras/layers/core.py:143: calling dropout (from tensorflow.python.ops.nn_ops) with keep_prob is deprecated and will be removed in a future version.\n",
      "Instructions for updating:\n",
      "Please use `rate` instead of `keep_prob`. Rate should be set to `rate = 1 - keep_prob`.\n",
      "WARNING:tensorflow:From ../src/deepleeo/networks/model_builder.py:79: TowerOptimizer.__init__ (from tensorflow_estimator.contrib.estimator.python.estimator.replicate_model_fn) is deprecated and will be removed after 2018-05-31.\n",
      "Instructions for updating:\n",
      "Please use `tf.contrib.distribute.MirroredStrategy` instead.\n",
      "WARNING:tensorflow:From /home/raian/anaconda3/envs/tensorflow/lib/python3.5/site-packages/tensorflow/python/ops/metrics_impl.py:526: to_float (from tensorflow.python.ops.math_ops) is deprecated and will be removed in a future version.\n",
      "Instructions for updating:\n",
      "Use tf.cast instead.\n",
      "WARNING:tensorflow:From /home/raian/anaconda3/envs/tensorflow/lib/python3.5/site-packages/tensorflow/contrib/metrics/python/metrics/classification.py:162: div (from tensorflow.python.ops.math_ops) is deprecated and will be removed in a future version.\n",
      "Instructions for updating:\n",
      "Deprecated in favor of operator or tf.math.divide.\n",
      "WARNING:tensorflow:From /home/raian/anaconda3/envs/tensorflow/lib/python3.5/site-packages/tensorflow/python/ops/metrics_impl.py:259: to_int64 (from tensorflow.python.ops.math_ops) is deprecated and will be removed in a future version.\n",
      "Instructions for updating:\n",
      "Use tf.cast instead.\n",
      "WARNING:tensorflow:From /home/raian/anaconda3/envs/tensorflow/lib/python3.5/site-packages/tensorflow/python/ops/confusion_matrix.py:194: to_int32 (from tensorflow.python.ops.math_ops) is deprecated and will be removed in a future version.\n",
      "Instructions for updating:\n",
      "Use tf.cast instead.\n",
      "INFO:tensorflow:Done calling model_fn.\n",
      "INFO:tensorflow:Create CheckpointSaverHook.\n",
      "INFO:tensorflow:Graph was finalized.\n",
      "INFO:tensorflow:Running local_init_op.\n",
      "INFO:tensorflow:Done running local_init_op.\n",
      "WARNING:tensorflow:From /home/raian/anaconda3/envs/tensorflow/lib/python3.5/site-packages/tensorflow/python/training/monitored_session.py:809: start_queue_runners (from tensorflow.python.training.queue_runner_impl) is deprecated and will be removed in a future version.\n",
      "Instructions for updating:\n",
      "To construct input pipelines, use the `tf.data` module.\n",
      "INFO:tensorflow:Saving checkpoints for 0 into /home/raian/doutorado/Dados/generated/tf_logs/test_debug/model.ckpt.\n",
      "INFO:tensorflow:loss = 0.65444887, step = 0\n",
      "INFO:tensorflow:accuracy = 2.6e-05, cross_entropy = 0.6304564, f1_score = 0.70459825, loss = 0.6528554, mean_iou = 0.0\n",
      "INFO:tensorflow:accuracy = 1.3e-05, cross_entropy = 0.5893334, f1_score = 0.7872414, loss = 0.35993743, mean_iou = 0.0 (25.703 sec)\n",
      "INFO:tensorflow:Saving checkpoints for 35 into /home/raian/doutorado/Dados/generated/tf_logs/test_debug/model.ckpt.\n",
      "INFO:tensorflow:Loss for final step: 0.32990706.\n",
      "---------------\n",
      "Evaluating...\n",
      "INFO:tensorflow:Calling model_fn.\n",
      "INFO:tensorflow:Done calling model_fn.\n",
      "INFO:tensorflow:Starting evaluation at 2019-03-29T22:09:29Z\n",
      "INFO:tensorflow:Graph was finalized.\n",
      "WARNING:tensorflow:From /home/raian/anaconda3/envs/tensorflow/lib/python3.5/site-packages/tensorflow/python/training/saver.py:1266: checkpoint_exists (from tensorflow.python.training.checkpoint_management) is deprecated and will be removed in a future version.\n",
      "Instructions for updating:\n",
      "Use standard file APIs to check for files with this prefix.\n",
      "INFO:tensorflow:Restoring parameters from /home/raian/doutorado/Dados/generated/tf_logs/test_debug/model.ckpt-35\n",
      "INFO:tensorflow:Running local_init_op.\n",
      "INFO:tensorflow:Done running local_init_op.\n",
      "INFO:tensorflow:accuracy = 0.0, cross_entropy = 0.6706796, f1_score = 0.6968435, loss = 0.874659, mean_iou = 0.0\n",
      "INFO:tensorflow:Finished evaluation at 2019-03-29-22:09:42\n",
      "INFO:tensorflow:Saving dict for global step 35: eval_metrics/accuracy = 0.0, eval_metrics/cross_entropy = 0.6624447, eval_metrics/f1-score = 0.7072319, eval_metrics/mean_iou = 0.47427082, global_step = 35, loss = 0.8358019\n"
     ]
    },
    {
     "name": "stdout",
     "output_type": "stream",
     "text": [
      "INFO:tensorflow:Saving 'checkpoint_path' summary for global step 35: /home/raian/doutorado/Dados/generated/tf_logs/test_debug/model.ckpt-35\n",
      "===============================================\n",
      "Epoch  2\n",
      "---------------\n",
      "Training...\n",
      "INFO:tensorflow:Calling model_fn.\n",
      "INFO:tensorflow:Done calling model_fn.\n",
      "INFO:tensorflow:Create CheckpointSaverHook.\n",
      "INFO:tensorflow:Graph was finalized.\n",
      "INFO:tensorflow:Restoring parameters from /home/raian/doutorado/Dados/generated/tf_logs/test_debug/model.ckpt-35\n",
      "WARNING:tensorflow:From /home/raian/anaconda3/envs/tensorflow/lib/python3.5/site-packages/tensorflow/python/training/saver.py:1070: get_checkpoint_mtimes (from tensorflow.python.training.checkpoint_management) is deprecated and will be removed in a future version.\n",
      "Instructions for updating:\n",
      "Use standard file utilities to get mtimes.\n",
      "INFO:tensorflow:Running local_init_op.\n",
      "INFO:tensorflow:Done running local_init_op.\n",
      "INFO:tensorflow:Saving checkpoints for 35 into /home/raian/doutorado/Dados/generated/tf_logs/test_debug/model.ckpt.\n",
      "INFO:tensorflow:loss = 0.3324089, step = 35\n",
      "INFO:tensorflow:accuracy = 0.0, cross_entropy = 0.5565108, f1_score = 0.89083594, loss = 0.35605562, mean_iou = 0.0\n",
      "INFO:tensorflow:accuracy = 0.0, cross_entropy = 0.5515168, f1_score = 0.90725017, loss = 0.29657364, mean_iou = 0.0 (24.455 sec)\n",
      "INFO:tensorflow:Saving checkpoints for 70 into /home/raian/doutorado/Dados/generated/tf_logs/test_debug/model.ckpt.\n",
      "INFO:tensorflow:Loss for final step: 0.30306795.\n",
      "---------------\n",
      "Evaluating...\n",
      "INFO:tensorflow:Calling model_fn.\n",
      "INFO:tensorflow:Done calling model_fn.\n",
      "INFO:tensorflow:Starting evaluation at 2019-03-29T22:10:52Z\n",
      "INFO:tensorflow:Graph was finalized.\n",
      "INFO:tensorflow:Restoring parameters from /home/raian/doutorado/Dados/generated/tf_logs/test_debug/model.ckpt-70\n",
      "INFO:tensorflow:Running local_init_op.\n",
      "INFO:tensorflow:Done running local_init_op.\n",
      "INFO:tensorflow:accuracy = 0.0, cross_entropy = 0.5460856, f1_score = 0.9089034, loss = 0.3186649, mean_iou = 0.0\n",
      "INFO:tensorflow:Finished evaluation at 2019-03-29-22:11:04\n",
      "INFO:tensorflow:Saving dict for global step 70: eval_metrics/accuracy = 0.0, eval_metrics/cross_entropy = 0.5423205, eval_metrics/f1-score = 0.9140959, eval_metrics/mean_iou = 0.6308764, global_step = 70, loss = 0.29645127\n",
      "INFO:tensorflow:Saving 'checkpoint_path' summary for global step 70: /home/raian/doutorado/Dados/generated/tf_logs/test_debug/model.ckpt-70\n",
      "===============================================\n",
      "Epoch  3\n",
      "---------------\n",
      "Training...\n",
      "INFO:tensorflow:Calling model_fn.\n",
      "INFO:tensorflow:Done calling model_fn.\n",
      "INFO:tensorflow:Create CheckpointSaverHook.\n",
      "INFO:tensorflow:Graph was finalized.\n",
      "INFO:tensorflow:Restoring parameters from /home/raian/doutorado/Dados/generated/tf_logs/test_debug/model.ckpt-70\n",
      "INFO:tensorflow:Running local_init_op.\n",
      "INFO:tensorflow:Done running local_init_op.\n",
      "INFO:tensorflow:Saving checkpoints for 70 into /home/raian/doutorado/Dados/generated/tf_logs/test_debug/model.ckpt.\n",
      "INFO:tensorflow:loss = 0.29402375, step = 70\n",
      "INFO:tensorflow:accuracy = 0.0, cross_entropy = 0.53300107, f1_score = 0.9269626, loss = 0.29890352, mean_iou = 0.0\n",
      "INFO:tensorflow:accuracy = 0.0, cross_entropy = 0.52938926, f1_score = 0.9265713, loss = 0.26499635, mean_iou = 0.0 (24.305 sec)\n",
      "INFO:tensorflow:Saving checkpoints for 105 into /home/raian/doutorado/Dados/generated/tf_logs/test_debug/model.ckpt.\n",
      "INFO:tensorflow:Loss for final step: 0.2952485.\n",
      "---------------\n",
      "Evaluating...\n",
      "INFO:tensorflow:Calling model_fn.\n",
      "INFO:tensorflow:Done calling model_fn.\n",
      "INFO:tensorflow:Starting evaluation at 2019-03-29T22:12:12Z\n",
      "INFO:tensorflow:Graph was finalized.\n",
      "INFO:tensorflow:Restoring parameters from /home/raian/doutorado/Dados/generated/tf_logs/test_debug/model.ckpt-105\n",
      "INFO:tensorflow:Running local_init_op.\n",
      "INFO:tensorflow:Done running local_init_op.\n",
      "INFO:tensorflow:accuracy = 0.0, cross_entropy = 0.54431856, f1_score = 0.90643775, loss = 0.32424456, mean_iou = 0.0\n",
      "INFO:tensorflow:Finished evaluation at 2019-03-29-22:12:23\n",
      "INFO:tensorflow:Saving dict for global step 105: eval_metrics/accuracy = 0.0, eval_metrics/cross_entropy = 0.5411607, eval_metrics/f1-score = 0.9116601, eval_metrics/mean_iou = 0.6349276, global_step = 105, loss = 0.29289454\n",
      "INFO:tensorflow:Saving 'checkpoint_path' summary for global step 105: /home/raian/doutorado/Dados/generated/tf_logs/test_debug/model.ckpt-105\n"
     ]
    }
   ],
   "source": [
    "model = mb.ModelBuilder(network)\n",
    "model.train(train_images, test_images, train_labels, test_labels, params, model_dir)"
   ]
  },
  {
   "cell_type": "code",
   "execution_count": 9,
   "metadata": {},
   "outputs": [],
   "source": [
    "#fcn.fcn_evaluate(valid_images, valid_labels,)"
   ]
  }
 ],
 "metadata": {
  "kernelspec": {
   "display_name": "Python 3",
   "language": "python",
   "name": "python3"
  },
  "language_info": {
   "codemirror_mode": {
    "name": "ipython",
    "version": 3
   },
   "file_extension": ".py",
   "mimetype": "text/x-python",
   "name": "python",
   "nbconvert_exporter": "python",
   "pygments_lexer": "ipython3",
   "version": "3.5.5"
  }
 },
 "nbformat": 4,
 "nbformat_minor": 2
}
