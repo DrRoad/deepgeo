{
 "cells": [
  {
   "cell_type": "code",
   "execution_count": 1,
   "metadata": {},
   "outputs": [
    {
     "data": {
      "text/plain": [
       "<module 'deepleeo.dataset.reprojector' from '../src/deepleeo/dataset/reprojector.py'>"
      ]
     },
     "execution_count": 1,
     "metadata": {},
     "output_type": "execute_result"
    }
   ],
   "source": [
    "import sys\n",
    "import os\n",
    "from importlib import reload\n",
    "\n",
    "sys.path.insert(0, '../src')\n",
    "import deepleeo.utils.geofunctions as gf\n",
    "\n",
    "reload(gf)"
   ]
  },
  {
   "cell_type": "code",
   "execution_count": 2,
   "metadata": {},
   "outputs": [],
   "source": [
    "DATA_DIR = \"/home/raian/doutorado/Dados\"\n",
    "base_raster = os.path.join(DATA_DIR, \"2015/LC082250642015081601T1-SC20180823104500\", \"LC08_L1TP_225064_20150816_20170406_01_T1_sr_band5.tif\")\n",
    "vector_shp = os.path.join(DATA_DIR, \"PDigital2017_22564__pol.shp\")\n",
    "out_shp = os.path.join(DATA_DIR, \"prodes_225064_2017_rep.shp\")"
   ]
  },
  {
   "cell_type": "code",
   "execution_count": 3,
   "metadata": {},
   "outputs": [],
   "source": [
    "gf.reproj_shape_to_raster(vector_shp, base_raster, out_shp)"
   ]
  },
  {
   "cell_type": "code",
   "execution_count": null,
   "metadata": {},
   "outputs": [],
   "source": []
  }
 ],
 "metadata": {
  "kernelspec": {
   "display_name": "Python 3",
   "language": "python",
   "name": "python3"
  },
  "language_info": {
   "codemirror_mode": {
    "name": "ipython",
    "version": 3
   },
   "file_extension": ".py",
   "mimetype": "text/x-python",
   "name": "python",
   "nbconvert_exporter": "python",
   "pygments_lexer": "ipython3",
   "version": "3.5.5"
  }
 },
 "nbformat": 4,
 "nbformat_minor": 2
}
